{
 "cells": [
  {
   "cell_type": "markdown",
   "metadata": {},
   "source": [
    "###  Exercises: Day 13"
   ]
  },
  {
   "cell_type": "code",
   "execution_count": 1,
   "metadata": {},
   "outputs": [
    {
     "name": "stdout",
     "output_type": "stream",
     "text": [
      "[-4, -3, -2, -1, 0]\n"
     ]
    }
   ],
   "source": [
    "numbers = [-4, -3, -2, -1, 0, 2, 4, 6]\n",
    "\n",
    "# Filter only negative and zero in the list using list comprehension\n",
    "filtered_numbers = [num for num in numbers if num <= 0]\n",
    "\n",
    "print(filtered_numbers)\n"
   ]
  },
  {
   "cell_type": "code",
   "execution_count": 2,
   "metadata": {},
   "outputs": [
    {
     "name": "stdout",
     "output_type": "stream",
     "text": [
      "[1, 2, 3, 4, 5, 6, 7, 8, 9]\n"
     ]
    }
   ],
   "source": [
    "list_of_lists = [[[1, 2, 3]], [[4, 5, 6]], [[7, 8, 9]]]\n",
    "\n",
    "# Flatten the list using list comprehension\n",
    "flat_list = [num for sublist in list_of_lists for row in sublist for num in row]\n",
    "\n",
    "print(flat_list)\n"
   ]
  },
  {
   "cell_type": "code",
   "execution_count": 3,
   "metadata": {},
   "outputs": [
    {
     "name": "stdout",
     "output_type": "stream",
     "text": [
      "[(0, 1, 0, 0, 0, 0, 0), (1, 1, 1, 1, 1, 1, 1), (2, 1, 2, 4, 8, 16, 32), (3, 1, 3, 9, 27, 81, 243), (4, 1, 4, 16, 64, 256, 1024), (5, 1, 5, 25, 125, 625, 3125), (6, 1, 6, 36, 216, 1296, 7776), (7, 1, 7, 49, 343, 2401, 16807), (8, 1, 8, 64, 512, 4096, 32768), (9, 1, 9, 81, 729, 6561, 59049), (10, 1, 10, 100, 1000, 10000, 100000)]\n"
     ]
    }
   ],
   "source": [
    "list_of_tuples = [(i, 1, i, i**2, i**3, i**4, i**5) for i in range(11)]\n",
    "\n",
    "print(list_of_tuples)\n"
   ]
  },
  {
   "cell_type": "code",
   "execution_count": 4,
   "metadata": {},
   "outputs": [
    {
     "name": "stdout",
     "output_type": "stream",
     "text": [
      "['Finland', 'Sweden', 'Norway']\n"
     ]
    }
   ],
   "source": [
    "countries = [[('Finland', 'Helsinki')], [('Sweden', 'Stockholm')], [('Norway', 'Oslo')]]\n",
    "\n",
    "# Flatten the list using list comprehension\n",
    "flat_countries = [country[0] for sublist in countries for country in sublist]\n",
    "\n",
    "print(flat_countries)\n"
   ]
  },
  {
   "cell_type": "code",
   "execution_count": 5,
   "metadata": {},
   "outputs": [
    {
     "name": "stdout",
     "output_type": "stream",
     "text": [
      "[{'country': 'Finland', 'capital': 'Helsinki'}, {'country': 'Sweden', 'capital': 'Stockholm'}, {'country': 'Norway', 'capital': 'Oslo'}]\n"
     ]
    }
   ],
   "source": [
    "countries = [[('Finland', 'Helsinki')], [('Sweden', 'Stockholm')], [('Norway', 'Oslo')]]\n",
    "\n",
    "# Create a list of dictionaries\n",
    "country_dicts = [{'country': country[0], 'capital': country[1]} for sublist in countries for country in sublist]\n",
    "\n",
    "print(country_dicts)\n"
   ]
  },
  {
   "cell_type": "code",
   "execution_count": 6,
   "metadata": {},
   "outputs": [
    {
     "name": "stdout",
     "output_type": "stream",
     "text": [
      "['Asabeneh Yetayeh', 'David Smith', 'Donald Trump', 'Bill Gates']\n"
     ]
    }
   ],
   "source": [
    "names = [[('Asabeneh', 'Yetayeh')], [('David', 'Smith')], [('Donald', 'Trump')], [('Bill', 'Gates')]]\n",
    "\n",
    "# Use list comprehension and string formatting to concatenate the names\n",
    "concatenated_names = [f\"{name[0]} {name[1]}\" for sublist in names for name in sublist]\n",
    "\n",
    "print(concatenated_names)\n"
   ]
  },
  {
   "cell_type": "code",
   "execution_count": null,
   "metadata": {},
   "outputs": [],
   "source": [
    "def linear_function(points):\n",
    " \"\"\"\n",
    " This lambda function takes a list of points as input and returns a dictionary containing the slope and y-intercept of the corresponding linear function.\n",
    "\n",
    " Args:\n",
    "     points: A list of tuples representing points on the line, where each tuple contains the x and y coordinates of a point.\n",
    "\n",
    " Returns:\n",
    "     A dictionary containing the slope and y-intercept of the linear function.\n",
    " \"\"\"\n",
    " x, y = zip(*points)\n",
    " n = len(points)\n",
    " sum_x = sum(x)\n",
    " sum_y = sum(y)\n",
    " sum_xy = sum(x_i * y_i for x_i, y_i in zip(x, y))\n",
    " sum_x2 = sum(x_i ** 2 for x_i in x)\n",
    "\n",
    " slope = (n * sum_xy - sum_x * sum_y) / (n * sum_x2 - sum_x ** 2)\n",
    " y_intercept = (sum_y - slope * sum_x) / n\n",
    "\n",
    " return {\"slope\": slope, \"y_intercept\": y_intercept}\n",
    "\n",
    "# Example usage\n",
    "points = [(1, 2), (2, 4), (3, 6)]\n",
    "equation = linear_function(points)\n",
    "\n",
    "print(f\"Equation: y = {equation['slope']}x + {equation['y_intercept']}\")\n"
   ]
  }
 ],
 "metadata": {
  "kernelspec": {
   "display_name": "Python 3",
   "language": "python",
   "name": "python3"
  },
  "language_info": {
   "codemirror_mode": {
    "name": "ipython",
    "version": 3
   },
   "file_extension": ".py",
   "mimetype": "text/x-python",
   "name": "python",
   "nbconvert_exporter": "python",
   "pygments_lexer": "ipython3",
   "version": "3.12.0"
  }
 },
 "nbformat": 4,
 "nbformat_minor": 2
}
