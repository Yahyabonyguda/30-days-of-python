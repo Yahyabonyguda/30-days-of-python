{
 "cells": [
  {
   "cell_type": "markdown",
   "metadata": {},
   "source": [
    "###  Day 20 - PIP"
   ]
  },
  {
   "cell_type": "markdown",
   "metadata": {},
   "source": [
    "###  Exercises: Day 20"
   ]
  },
  {
   "cell_type": "code",
   "execution_count": null,
   "metadata": {},
   "outputs": [],
   "source": [
    "import requests\n",
    "import pandas as pd\n",
    "import numpy as np\n",
    "\n",
    "# Fetch data from the cats API\n",
    "cats_api = 'https://api.thecatapi.com/v1/breeds'\n",
    "response = requests.get(cats_api)\n",
    "data = response.json()\n",
    "\n",
    "# Extract weight and lifespan data\n",
    "weights = [breed['weight']['metric'] for breed in data if breed['weight'] is not None]\n",
    "lifespans = [breed['life_span'] for breed in data if breed['life_span'] is not None]\n",
    "\n",
    "# Calculate statistics for weights\n",
    "weights_min = min(weights)\n",
    "weights_max = max(weights)\n",
    "weights_mean = np.mean(weights)\n",
    "weights_median = np.median(weights)\n",
    "weights_std = np.std(weights)\n",
    "\n",
    "# Calculate statistics for lifespans\n",
    "lifespans_min = min(lifespans)\n",
    "lifespans_max = max(lifespans)\n",
    "lifespans_mean = np.mean(lifespans)\n",
    "lifespans_median = np.median(lifespans)\n",
    "lifespans_std = np.std(lifespans)\n",
    "\n",
    "# Create a frequency table of country and breed\n",
    "country_breed_data = [(breed['origin'], breed['name']) for breed in data if breed['origin'] is not None]\n",
    "country_breed_df = pd.DataFrame(country_breed_data, columns=['Country', 'Breed'])\n",
    "country_breed_frequency = country_breed_df.groupby(['Country', 'Breed']).size().to_frame(name='Count').reset_index()\n",
    "\n",
    "# Print the results\n",
    "print(\"Weights:\")\n",
    "print(\"Min:\", weights_min)\n",
    "print(\"Max:\", weights_max)\n",
    "print(\"Mean:\", weights_mean)\n",
    "print(\"Median:\", weights_median)\n",
    "print(\"Standard deviation:\", weights_std)\n",
    "\n",
    "print(\"\\nLifespans:\")\n",
    "print(\"Min:\", lifespans_min)\n",
    "print(\"Max:\", lifespans_max)\n",
    "print(\"Mean:\", lifespans_mean)\n",
    "print(\"Median:\", lifespans_median)\n",
    "print(\"Standard deviation:\", lifespans_std)\n",
    "\n",
    "print(\"\\nFrequency table of country and breed:\")\n",
    "print(country_breed_frequency.to_string())\n"
   ]
  },
  {
   "cell_type": "code",
   "execution_count": null,
   "metadata": {},
   "outputs": [],
   "source": [
    "import requests\n",
    "from operator import itemgetter\n",
    "\n",
    "# Replace \"your_api_key\" with your actual API key if required\n",
    "countries_api = \"https://your_api_key@countries.com/api/v3/all\"\n",
    "\n",
    "# Send API request and retrieve data\n",
    "response = requests.get(countries_api)\n",
    "data = response.json()\n",
    "\n",
    "# 1. Find 10 largest countries\n",
    "largest_countries = sorted(data, key=lambda country: country[\"area\"], reverse=True)[:10]\n",
    "largest_countries_names = [country[\"name\"] for country in largest_countries]\n",
    "\n",
    "# 2. Find 10 most spoken languages\n",
    "# Create a dictionary to store language counts\n",
    "language_counts = {}\n",
    "for country in data:\n",
    "    for language in country[\"languages\"]:\n",
    "        language_counts[language[\"iso639_1\"]] = language_counts.get(language[\"iso639_1\"], 0) + 1\n",
    "\n",
    "most_spoken_languages = sorted(language_counts.items(), key=itemgetter(1), reverse=True)[:10]\n",
    "most_spoken_languages_names = [language for language, _ in most_spoken_languages]\n",
    "\n",
    "# 3. Calculate total number of languages\n",
    "total_languages = 0\n",
    "for country in data:\n",
    "    total_languages += len(country[\"languages\"])\n",
    "\n",
    "# Print results\n",
    "print(\"10 Largest Countries:\")\n",
    "print(\", \".join(largest_countries_names))\n",
    "\n",
    "print(\"\\n10 Most Spoken Languages:\")\n",
    "print(\", \".join(most_spoken_languages_names))\n",
    "\n",
    "print(\"\\nTotal Number of Languages:\", total_languages)\n"
   ]
  }
 ],
 "metadata": {
  "kernelspec": {
   "display_name": "Python 3",
   "language": "python",
   "name": "python3"
  },
  "language_info": {
   "codemirror_mode": {
    "name": "ipython",
    "version": 3
   },
   "file_extension": ".py",
   "mimetype": "text/x-python",
   "name": "python",
   "nbconvert_exporter": "python",
   "pygments_lexer": "ipython3",
   "version": "3.12.0"
  }
 },
 "nbformat": 4,
 "nbformat_minor": 2
}
