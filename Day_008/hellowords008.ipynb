{
 "cells": [
  {
   "cell_type": "markdown",
   "metadata": {},
   "source": [
    "####   Exercises: Day 8"
   ]
  },
  {
   "cell_type": "code",
   "execution_count": 1,
   "metadata": {},
   "outputs": [
    {
     "name": "stdout",
     "output_type": "stream",
     "text": [
      "{}\n"
     ]
    }
   ],
   "source": [
    "dog = {}\n",
    "print(dog)"
   ]
  },
  {
   "cell_type": "code",
   "execution_count": 2,
   "metadata": {},
   "outputs": [
    {
     "name": "stdout",
     "output_type": "stream",
     "text": [
      "3\n"
     ]
    }
   ],
   "source": [
    "dog[\"name\"] = \"Fido\"\n",
    "dog[\"color\"] = \"brown\"\n",
    "dog[\"breed\"] = \"Labrador\"\n",
    "dog[\"legs\"] = 4\n",
    "dog[\"age\"] = 3\n",
    "print(dog[\"age\"])"
   ]
  },
  {
   "cell_type": "code",
   "execution_count": null,
   "metadata": {},
   "outputs": [],
   "source": [
    "student = {\n",
    "    \"first_name\": \"John\",\n",
    "    \"last_name\": \"Doe\",\n",
    "    \"gender\": \"male\",\n",
    "    \"age\": 25,\n",
    "    \"marital_status\": \"single\",\n",
    "    \"skills\": [\"Python\", \"Java\"],\n",
    "    \"country\": \"Nigeria\",\n",
    "    \"city\": \"New York\",\n",
    "    \"address\": \"123 Main St.\"\n",
    "}\n"
   ]
  },
  {
   "cell_type": "code",
   "execution_count": 4,
   "metadata": {},
   "outputs": [
    {
     "name": "stdout",
     "output_type": "stream",
     "text": [
      "9\n"
     ]
    }
   ],
   "source": [
    "student = {\n",
    "    \"first_name\": \"John\",\n",
    "    \"last_name\": \"Doe\",\n",
    "    \"gender\": \"male\",\n",
    "    \"age\": 25,\n",
    "    \"marital_status\": \"single\",\n",
    "    \"skills\": [\"Python\", \"Java\"],\n",
    "    \"country\": \"USA\",\n",
    "    \"city\": \"New York\",\n",
    "    \"address\": \"123 Main St.\"\n",
    "}\n",
    "length = len(student)\n",
    "print(length)  \n"
   ]
  },
  {
   "cell_type": "code",
   "execution_count": 5,
   "metadata": {},
   "outputs": [
    {
     "name": "stdout",
     "output_type": "stream",
     "text": [
      "['Python', 'Java']\n",
      "<class 'list'>\n"
     ]
    }
   ],
   "source": [
    "skills = student[\"skills\"]\n",
    "print(skills)  # Output: ['Python', 'Java']\n",
    "print(type(skills))  \n"
   ]
  },
  {
   "cell_type": "code",
   "execution_count": 6,
   "metadata": {},
   "outputs": [
    {
     "name": "stdout",
     "output_type": "stream",
     "text": [
      "['Python', 'Java', 'JavaScript', 'SQL', 'HTML']\n"
     ]
    }
   ],
   "source": [
    "student[\"skills\"].append(\"JavaScript\")\n",
    "student[\"skills\"].extend([\"SQL\", \"HTML\"])\n",
    "print(student[\"skills\"])  \n"
   ]
  },
  {
   "cell_type": "code",
   "execution_count": 7,
   "metadata": {},
   "outputs": [
    {
     "name": "stdout",
     "output_type": "stream",
     "text": [
      "['first_name', 'last_name', 'gender', 'age', 'marital_status', 'skills', 'country', 'city', 'address']\n"
     ]
    }
   ],
   "source": [
    "keys = list(student.keys())\n",
    "print(keys)  \n"
   ]
  },
  {
   "cell_type": "code",
   "execution_count": 8,
   "metadata": {},
   "outputs": [
    {
     "name": "stdout",
     "output_type": "stream",
     "text": [
      "['John', 'Doe', 'male', 25, 'single', ['Python', 'Java', 'JavaScript', 'SQL', 'HTML'], 'USA', 'New York', '123 Main St.']\n"
     ]
    }
   ],
   "source": [
    "values = list(student.values())\n",
    "print(values) \n"
   ]
  },
  {
   "cell_type": "code",
   "execution_count": 9,
   "metadata": {},
   "outputs": [
    {
     "name": "stdout",
     "output_type": "stream",
     "text": [
      "[('first_name', 'John'), ('last_name', 'Doe'), ('gender', 'male'), ('age', 25), ('marital_status', 'single'), ('skills', ['Python', 'Java', 'JavaScript', 'SQL', 'HTML']), ('country', 'USA'), ('city', 'New York'), ('address', '123 Main St.')]\n"
     ]
    }
   ],
   "source": [
    "tuples = list(student.items())\n",
    "print(tuples)  \n"
   ]
  },
  {
   "cell_type": "code",
   "execution_count": 10,
   "metadata": {},
   "outputs": [
    {
     "name": "stdout",
     "output_type": "stream",
     "text": [
      "{'first_name': 'John', 'last_name': 'Doe', 'gender': 'male', 'age': 25, 'marital_status': 'single', 'skills': ['Python', 'Java', 'JavaScript', 'SQL', 'HTML'], 'country': 'USA', 'address': '123 Main St.'}\n"
     ]
    }
   ],
   "source": [
    "del student[\"city\"]\n",
    "print(student)  \n"
   ]
  },
  {
   "cell_type": "code",
   "execution_count": 1,
   "metadata": {},
   "outputs": [
    {
     "ename": "NameError",
     "evalue": "name 'dog' is not defined",
     "output_type": "error",
     "traceback": [
      "\u001b[1;31m---------------------------------------------------------------------------\u001b[0m",
      "\u001b[1;31mNameError\u001b[0m                                 Traceback (most recent call last)",
      "Cell \u001b[1;32mIn[1], line 1\u001b[0m\n\u001b[1;32m----> 1\u001b[0m \u001b[38;5;28;01mdel\u001b[39;00m \u001b[43mdog\u001b[49m\n",
      "\u001b[1;31mNameError\u001b[0m: name 'dog' is not defined"
     ]
    }
   ],
   "source": [
    "del dog\n"
   ]
  }
 ],
 "metadata": {
  "kernelspec": {
   "display_name": "Python 3",
   "language": "python",
   "name": "python3"
  },
  "language_info": {
   "codemirror_mode": {
    "name": "ipython",
    "version": 3
   },
   "file_extension": ".py",
   "mimetype": "text/x-python",
   "name": "python",
   "nbconvert_exporter": "python",
   "pygments_lexer": "ipython3",
   "version": "3.12.0"
  }
 },
 "nbformat": 4,
 "nbformat_minor": 2
}
