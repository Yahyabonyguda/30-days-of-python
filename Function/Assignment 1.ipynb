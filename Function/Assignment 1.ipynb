{
 "cells": [
  {
   "cell_type": "markdown",
   "metadata": {},
   "source": [
    "###  Try  it  your self 1"
   ]
  },
  {
   "cell_type": "code",
   "execution_count": 1,
   "metadata": {},
   "outputs": [
    {
     "name": "stdout",
     "output_type": "stream",
     "text": [
      "This chapter is about functions.\n",
      "One of my favorite books is The Lord of the Rings.\n"
     ]
    }
   ],
   "source": [
    "def display_message():\n",
    "  \"\"\"Display a message about what is being learned in this chapter.\"\"\"\n",
    "  print(\"This chapter is about functions.\")\n",
    "\n",
    "def favorite_book(title):\n",
    "  \"\"\"Display a message about a favorite book.\"\"\"\n",
    "  print(f\"One of my favorite books is {title}.\")\n",
    "\n",
    "# Call the functions\n",
    "display_message()\n",
    "favorite_book(\"The Lord of the Rings\")\n"
   ]
  },
  {
   "cell_type": "markdown",
   "metadata": {},
   "source": [
    "###  Try it  your self 2"
   ]
  },
  {
   "cell_type": "code",
   "execution_count": 2,
   "metadata": {},
   "outputs": [
    {
     "name": "stdout",
     "output_type": "stream",
     "text": [
      "I'm making a large T-shirt with the message 'I love Python!'.\n",
      "I'm making a medium T-shirt with the message 'Coding is fun!'.\n"
     ]
    }
   ],
   "source": [
    "def make_shirt(size, message):\n",
    "  \"\"\"Summarize the size and message of a T-shirt.\"\"\"\n",
    "  print(f\"I'm making a {size} T-shirt with the message '{message}'.\")\n",
    "\n",
    "# Call the function with positional arguments\n",
    "make_shirt(\"large\", \"I love Python!\")\n",
    "\n",
    "# Call the function with keyword arguments\n",
    "make_shirt(message=\"Coding is fun!\", size=\"medium\")\n"
   ]
  },
  {
   "cell_type": "code",
   "execution_count": 3,
   "metadata": {},
   "outputs": [
    {
     "name": "stdout",
     "output_type": "stream",
     "text": [
      "I'm making a large T-shirt with the message 'I love Python!'.\n",
      "I'm making a medium T-shirt with the message 'I love Python!'.\n",
      "I'm making a small T-shirt with the message 'Coding rocks!'.\n"
     ]
    }
   ],
   "source": [
    "def make_shirt(size=\"large\", message=\"I love Python!\"):\n",
    "  \"\"\"Summarize the size and message of a T-shirt.\"\"\"\n",
    "  print(f\"I'm making a {size} T-shirt with the message '{message}'.\")\n",
    "\n",
    "# Make a large shirt with default message\n",
    "make_shirt()\n",
    "\n",
    "# Make a medium shirt with default message\n",
    "make_shirt(size=\"medium\")\n",
    "\n",
    "# Make a shirt of any size with a different message\n",
    "make_shirt(message=\"Coding rocks!\", size=\"small\")\n"
   ]
  },
  {
   "cell_type": "code",
   "execution_count": 4,
   "metadata": {},
   "outputs": [
    {
     "name": "stdout",
     "output_type": "stream",
     "text": [
      "Tokyo is in Japan.\n",
      "Paris is in France.\n",
      "Los Angeles is in Iceland.\n"
     ]
    }
   ],
   "source": [
    "def describe_city(city_name, country=\"Iceland\"):\n",
    "  \"\"\"Print a simple sentence describing a city and its country.\"\"\"\n",
    "  print(f\"{city_name.title()} is in {country.title()}.\")\n",
    "\n",
    "# Call the function for three different cities\n",
    "describe_city(\"tokyo\", \"japan\")\n",
    "describe_city(\"paris\", \"france\")\n",
    "describe_city(\"los angeles\")  # Uses the default country\n"
   ]
  },
  {
   "cell_type": "markdown",
   "metadata": {},
   "source": [
    "###  Try it your  self 3"
   ]
  },
  {
   "cell_type": "code",
   "execution_count": 5,
   "metadata": {},
   "outputs": [
    {
     "name": "stdout",
     "output_type": "stream",
     "text": [
      "Santiago, Chile\n",
      "London, England\n",
      "Mumbai, India\n"
     ]
    }
   ],
   "source": [
    "def city_country(city_name, country):\n",
    "  \"\"\"Return a formatted string representing a city and its country.\"\"\"\n",
    "  return f\"{city_name.title()}, {country.title()}\"\n",
    "\n",
    "# Call the function with different city-country pairs\n",
    "city_country_pairs = [\n",
    "  (\"Santiago\", \"Chile\"),\n",
    "  (\"London\", \"England\"),\n",
    "  (\"Mumbai\", \"India\"),\n",
    "]\n",
    "\n",
    "# Print the returned values\n",
    "for city, country in city_country_pairs:\n",
    "  print(city_country(city, country))\n"
   ]
  },
  {
   "cell_type": "code",
   "execution_count": 6,
   "metadata": {},
   "outputs": [
    {
     "name": "stdout",
     "output_type": "stream",
     "text": [
      "Album 1: {'artist': 'Kendrick Lamar', 'album': 'To Pimp A Butterfly'}\n",
      "Album 2: {'artist': 'Beyoncé', 'album': 'Lemonade', 'songs': 12}\n",
      "Album 3: {'artist': 'Taylor Swift', 'album': 'Folklore', 'songs': 16}\n"
     ]
    }
   ],
   "source": [
    "def make_album(artist_name, album_title, num_songs=None):\n",
    "  \"\"\"Build a dictionary describing a music album.\"\"\"\n",
    "  album_info = {\n",
    "    \"artist\": artist_name.title(),\n",
    "    \"album\": album_title.title(),\n",
    "  }\n",
    "  if num_songs:\n",
    "    album_info[\"songs\"] = num_songs\n",
    "  return album_info\n",
    "\n",
    "# Create albums with and without song count\n",
    "album1 = make_album(\"kendrick lamar\", \"to pimp a butterfly\")\n",
    "album2 = make_album(\"beyoncé\", \"lemonade\", 12)\n",
    "album3 = make_album(\"taylor swift\", \"folklore\", 16)\n",
    "\n",
    "# Print the album information\n",
    "print(f\"Album 1: {album1}\")\n",
    "print(f\"Album 2: {album2}\")\n",
    "print(f\"Album 3: {album3}\")\n"
   ]
  },
  {
   "cell_type": "code",
   "execution_count": 1,
   "metadata": {},
   "outputs": [
    {
     "name": "stdout",
     "output_type": "stream",
     "text": [
      "\n",
      "Enter album information (or type 'quit' to exit):\n"
     ]
    }
   ],
   "source": [
    "def make_album(artist_name, album_title, num_songs=None):\n",
    "  \"\"\"Build a dictionary describing a music album.\"\"\"\n",
    "  album_info = {\n",
    "    \"artist\": artist_name.title(),\n",
    "    \"album\": album_title.title(),\n",
    "  }\n",
    "  if num_songs:\n",
    "    album_info[\"songs\"] = num_songs\n",
    "  return album_info\n",
    "\n",
    "while True:\n",
    "  print(\"\\nEnter album information (or type 'quit' to exit):\")\n",
    "  artist = input(\"Artist name: \")\n",
    "  if artist.lower() == \"quit\":\n",
    "    break\n",
    "\n",
    "  title = input(\"Album title: \")\n",
    "  if title.lower() == \"quit\":\n",
    "    break\n",
    "\n",
    "  num_songs = input(\"Number of songs (optional): \")\n",
    "  if num_songs:\n",
    "    num_songs = int(num_songs)  # Convert to integer if provided\n",
    "\n",
    "  album = make_album(artist, title, num_songs)\n",
    "  print(f\"Created album: {album}\")\n"
   ]
  },
  {
   "cell_type": "markdown",
   "metadata": {},
   "source": [
    "###  Try  it your  self  3"
   ]
  },
  {
   "cell_type": "code",
   "execution_count": 1,
   "metadata": {},
   "outputs": [
    {
     "name": "stdout",
     "output_type": "stream",
     "text": [
      "- I love learning Python!\n",
      "- This is a great way to practice my coding skills.\n",
      "- I'm excited to see what I can build next!\n"
     ]
    }
   ],
   "source": [
    "messages = [\n",
    "  \"I love learning Python!\",\n",
    "  \"This is a great way to practice my coding skills.\",\n",
    "  \"I'm excited to see what I can build next!\",\n",
    "]\n",
    "\n",
    "def show_messages(messages):\n",
    "  \"\"\"Print a list of messages.\"\"\"\n",
    "  for message in messages:\n",
    "    print(f\"- {message}\")\n",
    "\n",
    "show_messages(messages)\n"
   ]
  },
  {
   "cell_type": "code",
   "execution_count": 2,
   "metadata": {},
   "outputs": [
    {
     "name": "stdout",
     "output_type": "stream",
     "text": [
      "- I love learning Python!\n",
      "- This is a great way to practice my coding skills.\n",
      "- I'm excited to see what I can build next!\n",
      "- Sending message: I'm excited to see what I can build next!\n",
      "- Sending message: This is a great way to practice my coding skills.\n",
      "- Sending message: I love learning Python!\n",
      "\n",
      "Original messages:\n",
      "- I love learning Python!\n",
      "- This is a great way to practice my coding skills.\n",
      "- I'm excited to see what I can build next!\n",
      "\n",
      "Sent messages:\n",
      "- I'm excited to see what I can build next!\n",
      "- This is a great way to practice my coding skills.\n",
      "- I love learning Python!\n"
     ]
    }
   ],
   "source": [
    "messages = [\n",
    "  \"I love learning Python!\",\n",
    "  \"This is a great way to practice my coding skills.\",\n",
    "  \"I'm excited to see what I can build next!\",\n",
    "]\n",
    "\n",
    "def show_messages(messages):\n",
    "  \"\"\"Print a list of messages.\"\"\"\n",
    "  for message in messages:\n",
    "    print(f\"- {message}\")\n",
    "\n",
    "def send_messages(messages, sent_messages):\n",
    "  \"\"\"Print and move messages to a new list.\"\"\"\n",
    "  while messages:\n",
    "    message = messages.pop()\n",
    "    print(f\"- Sending message: {message}\")\n",
    "    sent_messages.append(message)\n",
    "\n",
    "sent_messages = []\n",
    "\n",
    "show_messages(messages)  # Print original messages\n",
    "\n",
    "send_messages(messages.copy(), sent_messages)  # Move messages to sent_messages\n",
    "\n",
    "print(\"\\nOriginal messages:\")\n",
    "show_messages(messages)  # Print original messages (should be empty)\n",
    "\n",
    "print(\"\\nSent messages:\")\n",
    "show_messages(sent_messages)  # Print sent messages\n"
   ]
  },
  {
   "cell_type": "code",
   "execution_count": 3,
   "metadata": {},
   "outputs": [
    {
     "name": "stdout",
     "output_type": "stream",
     "text": [
      "- I love learning Python!\n",
      "- This is a great way to practice my coding skills.\n",
      "- I'm excited to see what I can build next!\n",
      "- Sending message: I'm excited to see what I can build next!\n",
      "- Sending message: This is a great way to practice my coding skills.\n",
      "- Sending message: I love learning Python!\n",
      "\n",
      "Original messages:\n",
      "- I love learning Python!\n",
      "- This is a great way to practice my coding skills.\n",
      "- I'm excited to see what I can build next!\n",
      "\n",
      "Sent messages:\n",
      "- I'm excited to see what I can build next!\n",
      "- This is a great way to practice my coding skills.\n",
      "- I love learning Python!\n"
     ]
    }
   ],
   "source": [
    "messages = [\n",
    "  \"I love learning Python!\",\n",
    "  \"This is a great way to practice my coding skills.\",\n",
    "  \"I'm excited to see what I can build next!\",\n",
    "]\n",
    "\n",
    "def show_messages(messages):\n",
    "  \"\"\"Print a list of messages.\"\"\"\n",
    "  for message in messages:\n",
    "    print(f\"- {message}\")\n",
    "\n",
    "def send_messages(messages, sent_messages):\n",
    "  \"\"\"Print and move messages to a new list.\"\"\"\n",
    "  while messages:\n",
    "    message = messages.pop()\n",
    "    print(f\"- Sending message: {message}\")\n",
    "    sent_messages.append(message)\n",
    "\n",
    "sent_messages = []\n",
    "\n",
    "show_messages(messages)  # Print original messages\n",
    "\n",
    "send_messages(messages[:], sent_messages)  # Send a copy of the messages\n",
    "\n",
    "print(\"\\nOriginal messages:\")\n",
    "show_messages(messages)  # Original messages should still be intact\n",
    "\n",
    "print(\"\\nSent messages:\")\n",
    "show_messages(sent_messages)\n"
   ]
  },
  {
   "cell_type": "markdown",
   "metadata": {},
   "source": [
    "###  Try it  your  self  4"
   ]
  },
  {
   "cell_type": "code",
   "execution_count": 4,
   "metadata": {},
   "outputs": [
    {
     "name": "stdout",
     "output_type": "stream",
     "text": [
      "I'm making you a sandwich with the following ingredients:\n",
      "- ham\n",
      "- cheese\n",
      "- lettuce\n",
      "- tomato\n",
      "I'm making you a sandwich with the following ingredients:\n",
      "- turkey\n",
      "- avocado\n",
      "I'm making you a sandwich with the following ingredients:\n",
      "- peanut butter\n",
      "- jelly\n"
     ]
    }
   ],
   "source": [
    "def make_sandwich(*ingredients):\n",
    "  \"\"\"Print a summary of the sandwich being ordered.\"\"\"\n",
    "  print(f\"I'm making you a sandwich with the following ingredients:\")\n",
    "  for ingredient in ingredients:\n",
    "    print(f\"- {ingredient}\")\n",
    "\n",
    "# Call the function with different numbers of arguments\n",
    "make_sandwich(\"ham\", \"cheese\", \"lettuce\", \"tomato\")\n",
    "make_sandwich(\"turkey\", \"avocado\")\n",
    "make_sandwich(\"peanut butter\", \"jelly\")\n"
   ]
  },
  {
   "cell_type": "code",
   "execution_count": null,
   "metadata": {},
   "outputs": [],
   "source": [
    "my_profile = build_profile(\n",
    "  first_name=\"Yahaya\",\n",
    "  last_name=\"Muhammad\"\n",
    ")\n",
    "print(my_profile)"
   ]
  },
  {
   "cell_type": "code",
   "execution_count": 1,
   "metadata": {},
   "outputs": [
    {
     "name": "stdout",
     "output_type": "stream",
     "text": [
      "My car information: {'manufacturer': 'Subaru', 'model': 'Outback', 'color': 'blue', 'tow_package': True}\n"
     ]
    }
   ],
   "source": [
    "def make_car(manufacturer, model, **kwargs):\n",
    "  \"\"\"Build a dictionary describing a car.\"\"\"\n",
    "  car = {\n",
    "    \"manufacturer\": manufacturer.title(),\n",
    "    \"model\": model.title(),\n",
    "  }\n",
    "  for key, value in kwargs.items():\n",
    "    car[key] = value\n",
    "  return car\n",
    "\n",
    "my_car = make_car(\n",
    "  manufacturer=\"subaru\",\n",
    "  model=\"outback\",\n",
    "  color=\"blue\",\n",
    "  tow_package=True,\n",
    ")\n",
    "\n",
    "print(f\"My car information: {my_car}\")\n"
   ]
  },
  {
   "cell_type": "markdown",
   "metadata": {},
   "source": [
    "###  Try your self 6"
   ]
  },
  {
   "cell_type": "code",
   "execution_count": null,
   "metadata": {},
   "outputs": [],
   "source": [
    "def print_models(unprinted_designs, completed_models):\n",
    "  \"\"\"Simulates printing each design, until none are left.\"\"\"\n",
    "  # ... (rest of the function's code)\n",
    "\n",
    "def show_completed_models(completed_models):\n",
    "  \"\"\"Shows all the models that have been printed.\"\"\"\n",
    "  # ... (rest of the function's code)\n"
   ]
  },
  {
   "cell_type": "code",
   "execution_count": 2,
   "metadata": {},
   "outputs": [],
   "source": [
    "def my_function():\n",
    "  # Code for your function\n",
    "  print(\"This is my function from the imported module.\")\n"
   ]
  },
  {
   "cell_type": "code",
   "execution_count": null,
   "metadata": {},
   "outputs": [],
   "source": [
    "# Approach 1:\n",
    "import my_module\n",
    "my_module.my_function()\n",
    "\n",
    "# Approach 2:\n",
    "from my_module import my_function\n",
    "my_function()\n",
    "\n",
    "# Approach 3:\n",
    "from my_module import my_function as fn\n",
    "fn()\n",
    "\n",
    "# Approach 4:\n",
    "import my_module as mn\n",
    "mn.my_function()\n",
    "\n",
    "# Approach 5 (generally discouraged):\n",
    "from my_module import *\n",
    "my_function()\n"
   ]
  },
  {
   "cell_type": "code",
   "execution_count": 3,
   "metadata": {},
   "outputs": [],
   "source": [
    "# Function with clear docstring\n",
    "def greet_user(name):\n",
    "  \"\"\"Greets the user by name.\"\"\"\n",
    "  print(\"Hello, \" + name + \"!\")\n",
    "\n",
    "# Main program with comments and spacing\n",
    "if __name__ == \"__main__\":\n",
    "  # Get user's name\n",
    "  user_name = input(\"What's your name? \")\n",
    "\n",
    "  # Call the greet_user function\n",
    "  greet_user(user_name)\n",
    "\n",
    "  # Print a friendly message\n",
    "  print(\"Have a great day!\")\n"
   ]
  }
 ],
 "metadata": {
  "kernelspec": {
   "display_name": "Python 3",
   "language": "python",
   "name": "python3"
  },
  "language_info": {
   "codemirror_mode": {
    "name": "ipython",
    "version": 3
   },
   "file_extension": ".py",
   "mimetype": "text/x-python",
   "name": "python",
   "nbconvert_exporter": "python",
   "pygments_lexer": "ipython3",
   "version": "3.12.0"
  }
 },
 "nbformat": 4,
 "nbformat_minor": 2
}
