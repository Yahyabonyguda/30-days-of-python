{
 "cells": [
  {
   "cell_type": "markdown",
   "metadata": {},
   "source": [
    "###  Exercises - Day 4"
   ]
  },
  {
   "cell_type": "code",
   "execution_count": 1,
   "metadata": {},
   "outputs": [
    {
     "name": "stdout",
     "output_type": "stream",
     "text": [
      "Thirty Days Of Python\n",
      "Coding For All\n"
     ]
    }
   ],
   "source": [
    "# Concatenate 'Thirty', 'Days', 'Of', 'Python'\n",
    "thirty_days_python = \"Thirty\" + \" \" + \"Days\" + \" \" + \"Of\" + \" \" + \"Python\"\n",
    "print(thirty_days_python)\n",
    "\n",
    "# Concatenate 'Coding', 'For', 'All'\n",
    "coding_for_all = \"Coding\" + \" \" + \"For\" + \" \" + \"All\"\n",
    "print(coding_for_all)\n"
   ]
  },
  {
   "cell_type": "code",
   "execution_count": 2,
   "metadata": {},
   "outputs": [
    {
     "name": "stdout",
     "output_type": "stream",
     "text": [
      "Coding For All\n",
      "14\n",
      "CODING FOR ALL\n",
      "coding for all\n",
      "Coding for all\n",
      "Coding For All\n",
      "cODING fOR aLL\n"
     ]
    }
   ],
   "source": [
    "# Declare and print company variable\n",
    "company = \"Coding For All\"\n",
    "print(company)\n",
    "\n",
    "# Print string length\n",
    "print(len(company))\n",
    "\n",
    "# Change to uppercase\n",
    "print(company.upper())\n",
    "\n",
    "# Change to lowercase\n",
    "print(company.lower())\n",
    "\n",
    "# Format using capitalize(), title(), and swapcase()\n",
    "print(company.capitalize())\n",
    "print(company.title())\n",
    "print(company.swapcase())\n"
   ]
  },
  {
   "cell_type": "code",
   "execution_count": 3,
   "metadata": {},
   "outputs": [
    {
     "name": "stdout",
     "output_type": "stream",
     "text": [
      "Coding\n",
      "True\n",
      "0\n"
     ]
    }
   ],
   "source": [
    "# Slice out the first word\n",
    "first_word = company[:6]  # Slice from index 0 to 5 (exclusive)\n",
    "print(first_word)\n",
    "\n",
    "# Check if 'Coding' is in the string\n",
    "contains_coding = \"Coding\" in company\n",
    "print(contains_coding)\n",
    "\n",
    "# Alternatively, use index() or find()\n",
    "index_of_coding = company.find(\"Coding\")  # Finds index of 'Coding'\n",
    "print(index_of_coding)\n"
   ]
  },
  {
   "cell_type": "code",
   "execution_count": 3,
   "metadata": {},
   "outputs": [
    {
     "name": "stdout",
     "output_type": "stream",
     "text": [
      "Coding For All\n"
     ]
    }
   ],
   "source": [
    "phrase = \"Coding For All\"\n",
    "new_phrase = phrase.replace(\"coding\", \"Python\")  # Replace with Python\n",
    "print(new_phrase)  \n"
   ]
  },
  {
   "cell_type": "code",
   "execution_count": 7,
   "metadata": {},
   "outputs": [
    {
     "name": "stdout",
     "output_type": "stream",
     "text": [
      "Python for All\n"
     ]
    }
   ],
   "source": [
    "phrase = \"Python for Everyone\"\n",
    "new_phrase = phrase.replace(\"Everyone\", \"All\")  # Replace with All\n",
    "print(new_phrase) \n"
   ]
  },
  {
   "cell_type": "code",
   "execution_count": 8,
   "metadata": {},
   "outputs": [
    {
     "name": "stdout",
     "output_type": "stream",
     "text": [
      "['Coding', 'For', 'All']\n"
     ]
    }
   ],
   "source": [
    "phrase = \"Coding For All\"\n",
    "words = phrase.split(\" \")  # Split into a list of words\n",
    "print(words)  \n"
   ]
  },
  {
   "cell_type": "code",
   "execution_count": 9,
   "metadata": {},
   "outputs": [
    {
     "name": "stdout",
     "output_type": "stream",
     "text": [
      "['Facebook', ' Google', ' Microsoft', ' Apple', ' IBM', ' Oracle', ' Amazon']\n"
     ]
    }
   ],
   "source": [
    "companies = \"Facebook, Google, Microsoft, Apple, IBM, Oracle, Amazon\"\n",
    "companies_list = companies.split(\",\")  # Split at commas\n",
    "print(companies_list)  \n"
   ]
  },
  {
   "cell_type": "code",
   "execution_count": 10,
   "metadata": {},
   "outputs": [
    {
     "name": "stdout",
     "output_type": "stream",
     "text": [
      "C\n"
     ]
    }
   ],
   "source": [
    "phrase = \"Coding For All\"\n",
    "first_char = phrase[0]  # Access first character\n",
    "print(first_char) \n"
   ]
  },
  {
   "cell_type": "code",
   "execution_count": 11,
   "metadata": {},
   "outputs": [
    {
     "name": "stdout",
     "output_type": "stream",
     "text": [
      "13\n"
     ]
    }
   ],
   "source": [
    "phrase = \"Coding For All\"\n",
    "last_index = len(phrase) - 1  # Get length and subtract 1\n",
    "print(last_index)  \n"
   ]
  },
  {
   "cell_type": "code",
   "execution_count": 15,
   "metadata": {},
   "outputs": [
    {
     "name": "stdout",
     "output_type": "stream",
     "text": [
      "d\n"
     ]
    }
   ],
   "source": [
    "phrase = \"Coding For All\"\n",
    "char_at_10 = phrase[2]  \n",
    "print(char_at_10) \n"
   ]
  },
  {
   "cell_type": "code",
   "execution_count": 16,
   "metadata": {},
   "outputs": [
    {
     "name": "stdout",
     "output_type": "stream",
     "text": [
      "PFE\n"
     ]
    }
   ],
   "source": [
    "phrase = \"Python For Everyone\"\n",
    "acronym = \"\".join(word[0].upper() for word in phrase.split())  # Take first letter of each word and capitalize\n",
    "print(acronym) \n"
   ]
  },
  {
   "cell_type": "code",
   "execution_count": 17,
   "metadata": {},
   "outputs": [
    {
     "name": "stdout",
     "output_type": "stream",
     "text": [
      "CFA\n"
     ]
    }
   ],
   "source": [
    "phrase = \"Coding For All\"\n",
    "acronym = \"\".join(word[0].upper() for word in phrase.split())  # Same process as above\n",
    "print(acronym) \n"
   ]
  },
  {
   "cell_type": "code",
   "execution_count": 18,
   "metadata": {},
   "outputs": [
    {
     "name": "stdout",
     "output_type": "stream",
     "text": [
      "0\n"
     ]
    }
   ],
   "source": [
    "phrase = \"Coding For All\"\n",
    "position = phrase.index(\"C\")  # Find first occurrence of \"C\"\n",
    "print(position)  \n"
   ]
  },
  {
   "cell_type": "code",
   "execution_count": 24,
   "metadata": {},
   "outputs": [
    {
     "name": "stdout",
     "output_type": "stream",
     "text": [
      "7\n"
     ]
    }
   ],
   "source": [
    "phrase = \"Coding For All\"\n",
    "first_f_index = phrase.index(\"F\")  # Find first occurrence of \"F\"\n",
    "print(first_f_index)  \n"
   ]
  },
  {
   "cell_type": "code",
   "execution_count": 25,
   "metadata": {},
   "outputs": [
    {
     "name": "stdout",
     "output_type": "stream",
     "text": [
      "19\n"
     ]
    }
   ],
   "source": [
    "phrase = \"Coding For All People\"\n",
    "last_l_index = phrase.rfind(\"l\")  # Find last occurrence of \"l\"\n",
    "print(last_l_index) \n"
   ]
  },
  {
   "cell_type": "code",
   "execution_count": 26,
   "metadata": {},
   "outputs": [
    {
     "name": "stdout",
     "output_type": "stream",
     "text": [
      "31\n"
     ]
    }
   ],
   "source": [
    "sentence = \"You cannot end a sentence with because because because is a conjunction\"\n",
    "first_because_index = sentence.find(\"because\")  # Find first occurrence of \"because\"\n",
    "print(first_because_index)  \n"
   ]
  },
  {
   "cell_type": "code",
   "execution_count": 28,
   "metadata": {},
   "outputs": [
    {
     "name": "stdout",
     "output_type": "stream",
     "text": [
      "47\n"
     ]
    }
   ],
   "source": [
    "sentence = \"You cannot end a sentence with because because because is a conjunction\"\n",
    "last_because_index = sentence.rindex(\"because\")  # Find last occurrence of \"because\"\n",
    "print(last_because_index)  \n"
   ]
  },
  {
   "cell_type": "code",
   "execution_count": 29,
   "metadata": {},
   "outputs": [
    {
     "name": "stdout",
     "output_type": "stream",
     "text": [
      " because because because i\n"
     ]
    }
   ],
   "source": [
    "sentence = \"You cannot end a sentence with because because because is a conjunction\"\n",
    "phrase = sentence[30:56]  # Slice from index 30 to 56 (exclusive)\n",
    "print(phrase)  \n"
   ]
  },
  {
   "cell_type": "code",
   "execution_count": 30,
   "metadata": {},
   "outputs": [
    {
     "name": "stdout",
     "output_type": "stream",
     "text": [
      "True\n"
     ]
    }
   ],
   "source": [
    "phrase = \"Coding For All\"\n",
    "starts_with_coding = phrase.startswith(\"Coding\")  # Check if it starts with \"Coding\"\n",
    "print(starts_with_coding)  \n"
   ]
  },
  {
   "cell_type": "code",
   "execution_count": 32,
   "metadata": {},
   "outputs": [
    {
     "name": "stdout",
     "output_type": "stream",
     "text": [
      "False\n"
     ]
    }
   ],
   "source": [
    "phrase = \"Coding For All\"\n",
    "ends_with_coding = phrase.endswith(\"coding\")  # Check if it ends with \"coding\" (case-sensitive)\n",
    "print(ends_with_coding)  \n"
   ]
  },
  {
   "cell_type": "code",
   "execution_count": 33,
   "metadata": {},
   "outputs": [
    {
     "name": "stdout",
     "output_type": "stream",
     "text": [
      "Coding For All\n"
     ]
    }
   ],
   "source": [
    "phrase = \"   Coding For All   \"\n",
    "trimmed_phrase = phrase.strip()  # Remove leading and trailing spaces\n",
    "print(trimmed_phrase) \n"
   ]
  },
  {
   "cell_type": "code",
   "execution_count": 34,
   "metadata": {},
   "outputs": [
    {
     "name": "stdout",
     "output_type": "stream",
     "text": [
      "Django# Flask# Bottle# Pyramid# Falcon\n"
     ]
    }
   ],
   "source": [
    "libraries = ['Django', 'Flask', 'Bottle', 'Pyramid', 'Falcon']\n",
    "joined_libraries = \"# \".join(libraries)\n",
    "print(joined_libraries)  \n"
   ]
  },
  {
   "cell_type": "code",
   "execution_count": 35,
   "metadata": {},
   "outputs": [
    {
     "name": "stdout",
     "output_type": "stream",
     "text": [
      "I am enjoying this challenge.\n",
      "I just wonder what is next.\n"
     ]
    }
   ],
   "source": [
    "sentences = [\"I am enjoying this challenge.\", \"I just wonder what is next.\"]\n",
    "joined_sentences = \"\\n\".join(sentences)\n",
    "print(joined_sentences)\n"
   ]
  },
  {
   "cell_type": "code",
   "execution_count": 36,
   "metadata": {},
   "outputs": [
    {
     "name": "stdout",
     "output_type": "stream",
     "text": [
      "Name\tAge\tCountry\tCity\n",
      "Asabeneh\t250\tFinland\tHelsinki\n"
     ]
    }
   ],
   "source": [
    "data = [\"Name\\tAge\\tCountry\\tCity\", \"Asabeneh\\t250\\tFinland\\tHelsinki\"]\n",
    "joined_data = \"\\n\".join(data)\n",
    "print(joined_data)\n"
   ]
  },
  {
   "cell_type": "code",
   "execution_count": 37,
   "metadata": {},
   "outputs": [
    {
     "name": "stdout",
     "output_type": "stream",
     "text": [
      "Area of a circle with radius 10 is: 314.00\n"
     ]
    }
   ],
   "source": [
    "radius = 10\n",
    "area = 3.14 * radius ** 2\n",
    "print(f\"Area of a circle with radius {radius} is: {area:.2f}\")\n"
   ]
  },
  {
   "cell_type": "code",
   "execution_count": 38,
   "metadata": {},
   "outputs": [
    {
     "name": "stdout",
     "output_type": "stream",
     "text": [
      "8 + 6 = 14\n"
     ]
    }
   ],
   "source": [
    "num1 = 8\n",
    "num2 = 6\n",
    "operation = f\"{num1} + {num2} = {num1 + num2}\"\n",
    "print(operation)  \n"
   ]
  },
  {
   "cell_type": "code",
   "execution_count": 39,
   "metadata": {},
   "outputs": [
    {
     "name": "stdout",
     "output_type": "stream",
     "text": [
      "8 - 6 = 2\n"
     ]
    }
   ],
   "source": [
    "num1 = 8\n",
    "num2 = 6\n",
    "operation = f\"{num1} - {num2} = {num1 - num2}\"\n",
    "print(operation)  \n"
   ]
  },
  {
   "cell_type": "code",
   "execution_count": 40,
   "metadata": {},
   "outputs": [
    {
     "name": "stdout",
     "output_type": "stream",
     "text": [
      "8 * 6 = 48\n"
     ]
    }
   ],
   "source": [
    "num1 = 8\n",
    "num2 = 6\n",
    "operation = f\"{num1} * {num2} = {num1 * num2}\"\n",
    "print(operation) \n"
   ]
  },
  {
   "cell_type": "code",
   "execution_count": 41,
   "metadata": {},
   "outputs": [
    {
     "name": "stdout",
     "output_type": "stream",
     "text": [
      "8 / 6.00 = 1.33\n"
     ]
    }
   ],
   "source": [
    "num1 = 8\n",
    "num2 = 6\n",
    "operation = f\"{num1} / {num2:.2f} = {num1 / num2:.2f}\"\n",
    "print(operation) \n"
   ]
  },
  {
   "cell_type": "code",
   "execution_count": 42,
   "metadata": {},
   "outputs": [
    {
     "name": "stdout",
     "output_type": "stream",
     "text": [
      "8 % 6 = 2\n"
     ]
    }
   ],
   "source": [
    "num1 = 8\n",
    "num2 = 6\n",
    "operation = f\"{num1} % {num2} = {num1 % num2}\"\n",
    "print(operation)\n"
   ]
  },
  {
   "cell_type": "code",
   "execution_count": 43,
   "metadata": {},
   "outputs": [
    {
     "name": "stdout",
     "output_type": "stream",
     "text": [
      "8 // 6 = 1\n"
     ]
    }
   ],
   "source": [
    "num1 = 8\n",
    "num2 = 6\n",
    "operation = f\"{num1} // {num2} = {num1 // num2}\"\n",
    "print(operation)  \n"
   ]
  },
  {
   "cell_type": "code",
   "execution_count": 44,
   "metadata": {},
   "outputs": [
    {
     "name": "stdout",
     "output_type": "stream",
     "text": [
      "8 ** 6 = 262144\n"
     ]
    }
   ],
   "source": [
    "num1 = 8\n",
    "num2 = 6\n",
    "operation = f\"{num1} ** {num2} = {num1 ** num2}\"\n",
    "print(operation)  \n"
   ]
  }
 ],
 "metadata": {
  "kernelspec": {
   "display_name": "Python 3",
   "language": "python",
   "name": "python3"
  },
  "language_info": {
   "codemirror_mode": {
    "name": "ipython",
    "version": 3
   },
   "file_extension": ".py",
   "mimetype": "text/x-python",
   "name": "python",
   "nbconvert_exporter": "python",
   "pygments_lexer": "ipython3",
   "version": "3.12.0"
  }
 },
 "nbformat": 4,
 "nbformat_minor": 2
}
