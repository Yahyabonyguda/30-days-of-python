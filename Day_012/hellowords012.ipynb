{
 "cells": [
  {
   "cell_type": "markdown",
   "metadata": {},
   "source": [
    "#####  Day 12 - Modules"
   ]
  },
  {
   "cell_type": "markdown",
   "metadata": {},
   "source": [
    "####  Exercises: Day 12"
   ]
  },
  {
   "cell_type": "markdown",
   "metadata": {},
   "source": [
    "####  Exercises: Level 1\n"
   ]
  },
  {
   "cell_type": "code",
   "execution_count": 1,
   "metadata": {},
   "outputs": [
    {
     "name": "stdout",
     "output_type": "stream",
     "text": [
      "Generated user ID: db0VVJ\n"
     ]
    }
   ],
   "source": [
    "import random\n",
    "import string\n",
    "\n",
    "def generate_random_user_id():\n",
    "  \"\"\"\n",
    "  Generates a random six digit/character user ID.\n",
    "\n",
    "  Returns:\n",
    "    A string containing a six digit/character user ID.\n",
    "  \"\"\"\n",
    "\n",
    "  # Define the pool of characters to choose from\n",
    "  characters = string.ascii_letters + string.digits\n",
    "\n",
    "  # Generate a random six digit/character string\n",
    "  user_id = ''.join(random.choice(characters) for _ in range(6))\n",
    "\n",
    "  return user_id\n",
    "\n",
    "# Example usage\n",
    "user_id = generate_random_user_id()\n",
    "print(f\"Generated user ID: {user_id}\")\n"
   ]
  },
  {
   "cell_type": "code",
   "execution_count": 3,
   "metadata": {},
   "outputs": [],
   "source": [
    "import random\n",
    "import string\n",
    "\n",
    "def user_id_gen_by_user():\n",
    "  \"\"\"\n",
    "  Generates a specified number of user IDs with user-defined length.\n",
    "\n",
    "  Returns:\n",
    "    A list of generated user IDs.\n",
    "  \"\"\"\n",
    "\n",
    "  # Get user input for character count and number of IDs\n",
    "  num_characters = int(input(\"Enter the number of characters for each user ID: \"))\n",
    "  num_ids = int(input(\"Enter the number of user IDs to generate: \"))\n",
    "\n",
    "  # Define the pool of characters to choose from\n",
    "  characters = string.ascii_letters + string.digits\n",
    "\n",
    "  # Generate the user IDs\n",
    "  user_ids = []\n",
    "  for _ in range(num_ids):\n",
    "    user_id = ''.join(random.choice(characters) for _ in range(num_characters))\n",
    "    user_ids.append(user_id)\n",
    "\n",
    "  return user_ids\n",
    "\n",
    "# Example usage\n",
    "generated_ids = user_id_gen_by_user()\n",
    "print(\"Generated user IDs:\", generated_ids)\n"
   ]
  },
  {
   "cell_type": "code",
   "execution_count": null,
   "metadata": {},
   "outputs": [],
   "source": [
    "import random\n",
    "\n",
    "def rgb_color_gen():\n",
    "  \"\"\"\n",
    "  Generates a random RGB color as a tuple of three integers between 0 and 255.\n",
    "\n",
    "  Returns:\n",
    "    A tuple containing three integers representing the red, green, and blue values of the generated color.\n",
    "  \"\"\"\n",
    "\n",
    "  # Generate random values for red, green, and blue channels\n",
    "  red = random.randint(0, 255)\n",
    "  green = random.randint(0, 255)\n",
    "  blue = random.randint(0, 255)\n",
    "\n",
    "  # Return the RGB tuple\n",
    "  return (red, green, blue)\n",
    "\n",
    "# Example usage\n",
    "color = rgb_color_gen()\n",
    "print(f\"Generated RGB color: {color}\")\n"
   ]
  },
  {
   "cell_type": "markdown",
   "metadata": {},
   "source": [
    "####  Exercises: Level 2"
   ]
  },
  {
   "cell_type": "code",
   "execution_count": null,
   "metadata": {},
   "outputs": [],
   "source": [
    "import random\n",
    "\n",
    "def list_of_hexa_colors(num_colors):\n",
    "  \"\"\"\n",
    "  Generates a list of specified number of hexadecimal colors.\n",
    "\n",
    "  Args:\n",
    "    num_colors: The number of hexadecimal colors to generate.\n",
    "\n",
    "  Returns:\n",
    "    A list of strings representing the generated hexadecimal colors.\n",
    "  \"\"\"\n",
    "\n",
    "  hex_digits = \"0123456789abcdef\"\n",
    "  color_list = []\n",
    "\n",
    "  for _ in range(num_colors):\n",
    "    # Generate a random six-digit hexadecimal string\n",
    "    color = \"#\" + \"\".join(random.choice(hex_digits) for _ in range(6))\n",
    "    color_list.append(color)\n",
    "\n",
    "  return color_list\n",
    "\n",
    "# Example usage\n",
    "colors = list_of_hexa_colors(5)\n",
    "print(f\"Generated hexadecimal colors: {colors}\")\n"
   ]
  },
  {
   "cell_type": "code",
   "execution_count": 2,
   "metadata": {},
   "outputs": [
    {
     "name": "stdout",
     "output_type": "stream",
     "text": [
      "Generated RGB colors: [(176, 159, 180), (12, 32, 57), (101, 116, 14), (192, 55, 71), (224, 247, 198)]\n"
     ]
    }
   ],
   "source": [
    "import random\n",
    "\n",
    "def list_of_rgb_colors(num_colors):\n",
    "  \"\"\"\n",
    "  Generates a list of specified number of RGB colors.\n",
    "\n",
    "  Args:\n",
    "    num_colors: The number of RGB colors to generate.\n",
    "\n",
    "  Returns:\n",
    "    A list of tuples representing the generated RGB colors.\n",
    "  \"\"\"\n",
    "\n",
    "  color_list = []\n",
    "\n",
    "  for _ in range(num_colors):\n",
    "    # Generate random values for red, green, and blue channels\n",
    "    red = random.randint(0, 255)\n",
    "    green = random.randint(0, 255)\n",
    "    blue = random.randint(0, 255)\n",
    "\n",
    "    # Append the RGB tuple to the list\n",
    "    color_list.append((red, green, blue))\n",
    "\n",
    "  return color_list\n",
    "\n",
    "# Example usage\n",
    "colors = list_of_rgb_colors(5)\n",
    "print(f\"Generated RGB colors: {colors}\")\n"
   ]
  },
  {
   "cell_type": "code",
   "execution_count": 1,
   "metadata": {},
   "outputs": [
    {
     "name": "stdout",
     "output_type": "stream",
     "text": [
      "Generated hexadecimal colors: ['#520a89', '#ef4507', '#ce8329', '#e0b76f', '#39b8d3']\n",
      "Generated RGB colors: [(61, 233, 226), (132, 6, 136), (160, 72, 66)]\n"
     ]
    }
   ],
   "source": [
    "import random\n",
    "\n",
    "def generate_colors(num_colors, color_type=\"hex\"):\n",
    "  \"\"\"\n",
    "  Generates a list of specified number of colors, either hexadecimal or RGB.\n",
    "\n",
    "  Args:\n",
    "    num_colors: The number of colors to generate.\n",
    "    color_type: The type of color to generate, either \"hex\" or \"rgb\" (default: \"hex\").\n",
    "\n",
    "  Returns:\n",
    "    A list of strings representing hexadecimal colors or tuples representing RGB colors.\n",
    "  \"\"\"\n",
    "\n",
    "  if color_type not in (\"hex\", \"rgb\"):\n",
    "    raise ValueError(\"Invalid color type. Choose either 'hex' or 'rgb'.\")\n",
    "\n",
    "  color_list = []\n",
    "\n",
    "  for _ in range(num_colors):\n",
    "    if color_type == \"hex\":\n",
    "      # Generate a random six-digit hexadecimal string\n",
    "      color = \"#\" + \"\".join(random.choice(\"0123456789abcdef\") for _ in range(6))\n",
    "      color_list.append(color)\n",
    "    else:\n",
    "      # Generate random values for red, green, and blue channels\n",
    "      red = random.randint(0, 255)\n",
    "      green = random.randint(0, 255)\n",
    "      blue = random.randint(0, 255)\n",
    "      color_list.append((red, green, blue))\n",
    "\n",
    "  return color_list\n",
    "\n",
    "# Example usage\n",
    "hex_colors = generate_colors(5, \"hex\")\n",
    "rgb_colors = generate_colors(3, \"rgb\")\n",
    "\n",
    "print(f\"Generated hexadecimal colors: {hex_colors}\")\n",
    "print(f\"Generated RGB colors: {rgb_colors}\")\n"
   ]
  },
  {
   "cell_type": "markdown",
   "metadata": {},
   "source": [
    "#####   Exercises: Level 3"
   ]
  },
  {
   "cell_type": "code",
   "execution_count": null,
   "metadata": {},
   "outputs": [],
   "source": [
    "import random\n",
    "\n",
    "def shuffle_list(data):\n",
    "  \"\"\"\n",
    "  Shuffles a list.\n",
    "\n",
    "  Args:\n",
    "    data: A list of any data type.\n",
    "\n",
    "  Returns:\n",
    "    A shuffled list.\n",
    "  \"\"\"\n",
    "  random.shuffle(data)\n",
    "  return data\n"
   ]
  },
  {
   "cell_type": "code",
   "execution_count": null,
   "metadata": {},
   "outputs": [],
   "source": [
    "def unique_random_numbers():\n",
    "  \"\"\"\n",
    "  Generates an array of seven random numbers in a range of 0-9. All the numbers must be unique.\n",
    "\n",
    "  Returns:\n",
    "    An array of seven unique random numbers.\n",
    "  \"\"\"\n",
    "  numbers = []\n",
    "  while len(numbers) < 7:\n",
    "    number = random.randint(0, 9)\n",
    "    if number not in numbers:\n",
    "      numbers.append(number)\n",
    "  return numbers\n"
   ]
  }
 ],
 "metadata": {
  "kernelspec": {
   "display_name": "Python 3",
   "language": "python",
   "name": "python3"
  },
  "language_info": {
   "codemirror_mode": {
    "name": "ipython",
    "version": 3
   },
   "file_extension": ".py",
   "mimetype": "text/x-python",
   "name": "python",
   "nbconvert_exporter": "python",
   "pygments_lexer": "ipython3",
   "version": "3.12.0"
  }
 },
 "nbformat": 4,
 "nbformat_minor": 2
}
