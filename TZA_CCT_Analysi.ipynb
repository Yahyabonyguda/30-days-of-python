{
  "nbformat": 4,
  "nbformat_minor": 0,
  "metadata": {
    "colab": {
      "provenance": [],
      "authorship_tag": "ABX9TyP+SQCffnFgi8H0S7D4X3GH",
      "include_colab_link": true
    },
    "kernelspec": {
      "name": "python3",
      "display_name": "Python 3"
    },
    "language_info": {
      "name": "python"
    }
  },
  "cells": [
    {
      "cell_type": "markdown",
      "metadata": {
        "id": "view-in-github",
        "colab_type": "text"
      },
      "source": [
        "<a href=\"https://colab.research.google.com/github/Yahyabonyguda/30-days-of-python/blob/main/TZA_CCT_Analysi.ipynb\" target=\"_parent\"><img src=\"https://colab.research.google.com/assets/colab-badge.svg\" alt=\"Open In Colab\"/></a>"
      ]
    },
    {
      "cell_type": "code",
      "execution_count": null,
      "metadata": {
        "id": "VhgMTRCOOZB-"
      },
      "outputs": [],
      "source": []
    },
    {
      "source": [
        "from google.colab import files\n",
        "\n",
        "uploaded = files.upload()\n",
        "\n",
        "for fn in uploaded.keys():\n",
        "  print('User uploaded file \"{name}\" with length {length} bytes'.format(\n",
        "      name=fn, length=len(uploaded[fn])))"
      ],
      "cell_type": "code",
      "metadata": {
        "colab": {
          "base_uri": "https://localhost:8080/",
          "height": 90
        },
        "id": "jRl02RnqOm5h",
        "outputId": "38f401c5-1778-4c4c-939e-e8b4eef19bcd"
      },
      "execution_count": 1,
      "outputs": [
        {
          "output_type": "display_data",
          "data": {
            "text/plain": [
              "<IPython.core.display.HTML object>"
            ],
            "text/html": [
              "\n",
              "     <input type=\"file\" id=\"files-869f4524-e0b4-4550-b9a9-80e8acdb7ca5\" name=\"files[]\" multiple disabled\n",
              "        style=\"border:none\" />\n",
              "     <output id=\"result-869f4524-e0b4-4550-b9a9-80e8acdb7ca5\">\n",
              "      Upload widget is only available when the cell has been executed in the\n",
              "      current browser session. Please rerun this cell to enable.\n",
              "      </output>\n",
              "      <script>// Copyright 2017 Google LLC\n",
              "//\n",
              "// Licensed under the Apache License, Version 2.0 (the \"License\");\n",
              "// you may not use this file except in compliance with the License.\n",
              "// You may obtain a copy of the License at\n",
              "//\n",
              "//      http://www.apache.org/licenses/LICENSE-2.0\n",
              "//\n",
              "// Unless required by applicable law or agreed to in writing, software\n",
              "// distributed under the License is distributed on an \"AS IS\" BASIS,\n",
              "// WITHOUT WARRANTIES OR CONDITIONS OF ANY KIND, either express or implied.\n",
              "// See the License for the specific language governing permissions and\n",
              "// limitations under the License.\n",
              "\n",
              "/**\n",
              " * @fileoverview Helpers for google.colab Python module.\n",
              " */\n",
              "(function(scope) {\n",
              "function span(text, styleAttributes = {}) {\n",
              "  const element = document.createElement('span');\n",
              "  element.textContent = text;\n",
              "  for (const key of Object.keys(styleAttributes)) {\n",
              "    element.style[key] = styleAttributes[key];\n",
              "  }\n",
              "  return element;\n",
              "}\n",
              "\n",
              "// Max number of bytes which will be uploaded at a time.\n",
              "const MAX_PAYLOAD_SIZE = 100 * 1024;\n",
              "\n",
              "function _uploadFiles(inputId, outputId) {\n",
              "  const steps = uploadFilesStep(inputId, outputId);\n",
              "  const outputElement = document.getElementById(outputId);\n",
              "  // Cache steps on the outputElement to make it available for the next call\n",
              "  // to uploadFilesContinue from Python.\n",
              "  outputElement.steps = steps;\n",
              "\n",
              "  return _uploadFilesContinue(outputId);\n",
              "}\n",
              "\n",
              "// This is roughly an async generator (not supported in the browser yet),\n",
              "// where there are multiple asynchronous steps and the Python side is going\n",
              "// to poll for completion of each step.\n",
              "// This uses a Promise to block the python side on completion of each step,\n",
              "// then passes the result of the previous step as the input to the next step.\n",
              "function _uploadFilesContinue(outputId) {\n",
              "  const outputElement = document.getElementById(outputId);\n",
              "  const steps = outputElement.steps;\n",
              "\n",
              "  const next = steps.next(outputElement.lastPromiseValue);\n",
              "  return Promise.resolve(next.value.promise).then((value) => {\n",
              "    // Cache the last promise value to make it available to the next\n",
              "    // step of the generator.\n",
              "    outputElement.lastPromiseValue = value;\n",
              "    return next.value.response;\n",
              "  });\n",
              "}\n",
              "\n",
              "/**\n",
              " * Generator function which is called between each async step of the upload\n",
              " * process.\n",
              " * @param {string} inputId Element ID of the input file picker element.\n",
              " * @param {string} outputId Element ID of the output display.\n",
              " * @return {!Iterable<!Object>} Iterable of next steps.\n",
              " */\n",
              "function* uploadFilesStep(inputId, outputId) {\n",
              "  const inputElement = document.getElementById(inputId);\n",
              "  inputElement.disabled = false;\n",
              "\n",
              "  const outputElement = document.getElementById(outputId);\n",
              "  outputElement.innerHTML = '';\n",
              "\n",
              "  const pickedPromise = new Promise((resolve) => {\n",
              "    inputElement.addEventListener('change', (e) => {\n",
              "      resolve(e.target.files);\n",
              "    });\n",
              "  });\n",
              "\n",
              "  const cancel = document.createElement('button');\n",
              "  inputElement.parentElement.appendChild(cancel);\n",
              "  cancel.textContent = 'Cancel upload';\n",
              "  const cancelPromise = new Promise((resolve) => {\n",
              "    cancel.onclick = () => {\n",
              "      resolve(null);\n",
              "    };\n",
              "  });\n",
              "\n",
              "  // Wait for the user to pick the files.\n",
              "  const files = yield {\n",
              "    promise: Promise.race([pickedPromise, cancelPromise]),\n",
              "    response: {\n",
              "      action: 'starting',\n",
              "    }\n",
              "  };\n",
              "\n",
              "  cancel.remove();\n",
              "\n",
              "  // Disable the input element since further picks are not allowed.\n",
              "  inputElement.disabled = true;\n",
              "\n",
              "  if (!files) {\n",
              "    return {\n",
              "      response: {\n",
              "        action: 'complete',\n",
              "      }\n",
              "    };\n",
              "  }\n",
              "\n",
              "  for (const file of files) {\n",
              "    const li = document.createElement('li');\n",
              "    li.append(span(file.name, {fontWeight: 'bold'}));\n",
              "    li.append(span(\n",
              "        `(${file.type || 'n/a'}) - ${file.size} bytes, ` +\n",
              "        `last modified: ${\n",
              "            file.lastModifiedDate ? file.lastModifiedDate.toLocaleDateString() :\n",
              "                                    'n/a'} - `));\n",
              "    const percent = span('0% done');\n",
              "    li.appendChild(percent);\n",
              "\n",
              "    outputElement.appendChild(li);\n",
              "\n",
              "    const fileDataPromise = new Promise((resolve) => {\n",
              "      const reader = new FileReader();\n",
              "      reader.onload = (e) => {\n",
              "        resolve(e.target.result);\n",
              "      };\n",
              "      reader.readAsArrayBuffer(file);\n",
              "    });\n",
              "    // Wait for the data to be ready.\n",
              "    let fileData = yield {\n",
              "      promise: fileDataPromise,\n",
              "      response: {\n",
              "        action: 'continue',\n",
              "      }\n",
              "    };\n",
              "\n",
              "    // Use a chunked sending to avoid message size limits. See b/62115660.\n",
              "    let position = 0;\n",
              "    do {\n",
              "      const length = Math.min(fileData.byteLength - position, MAX_PAYLOAD_SIZE);\n",
              "      const chunk = new Uint8Array(fileData, position, length);\n",
              "      position += length;\n",
              "\n",
              "      const base64 = btoa(String.fromCharCode.apply(null, chunk));\n",
              "      yield {\n",
              "        response: {\n",
              "          action: 'append',\n",
              "          file: file.name,\n",
              "          data: base64,\n",
              "        },\n",
              "      };\n",
              "\n",
              "      let percentDone = fileData.byteLength === 0 ?\n",
              "          100 :\n",
              "          Math.round((position / fileData.byteLength) * 100);\n",
              "      percent.textContent = `${percentDone}% done`;\n",
              "\n",
              "    } while (position < fileData.byteLength);\n",
              "  }\n",
              "\n",
              "  // All done.\n",
              "  yield {\n",
              "    response: {\n",
              "      action: 'complete',\n",
              "    }\n",
              "  };\n",
              "}\n",
              "\n",
              "scope.google = scope.google || {};\n",
              "scope.google.colab = scope.google.colab || {};\n",
              "scope.google.colab._files = {\n",
              "  _uploadFiles,\n",
              "  _uploadFilesContinue,\n",
              "};\n",
              "})(self);\n",
              "</script> "
            ]
          },
          "metadata": {}
        },
        {
          "output_type": "stream",
          "name": "stdout",
          "text": [
            "Saving TZA_CCT_analysis.csv to TZA_CCT_analysis.csv\n",
            "User uploaded file \"TZA_CCT_analysis.csv\" with length 307783 bytes\n"
          ]
        }
      ]
    },
    {
      "cell_type": "markdown",
      "source": [
        "# Display the first 5 rows of the DataFrame"
      ],
      "metadata": {
        "id": "xZJO2CzOPUdx"
      }
    },
    {
      "source": [
        "import pandas as pd\n",
        "import io\n",
        "\n",
        "df = pd.read_csv(io.BytesIO(uploaded['TZA_CCT_analysis.csv']))\n",
        "print(df.head())"
      ],
      "cell_type": "code",
      "metadata": {
        "colab": {
          "base_uri": "https://localhost:8080/"
        },
        "id": "aNJkDqWsPNBo",
        "outputId": "c3227caa-1508-42f9-b060-2bb077d63160"
      },
      "execution_count": 2,
      "outputs": [
        {
          "output_type": "stream",
          "name": "stdout",
          "text": [
            "   vid  hhid  enid  floor  roof  walls  water  enegry  rel_head  female_head  \\\n",
            "0    1  9122   818      1     2      1      1       1         4            0   \n",
            "1    1  9111   420      1     2      1      4       1         4            1   \n",
            "2    1  9120   805      1     2      1      7       1         4            0   \n",
            "3    1  9113   823      1     2      1      1       1         4            1   \n",
            "4    1  9119   621      1     4      1      1       1         4            0   \n",
            "\n",
            "   ...            key  area_acre  food_cons_usd  nonfood_cons_usd  \\\n",
            "0  ...  fxy1870677Fzo   0.500000       220.2980           5.03200   \n",
            "1  ...  ojM1236794YFp   2.998786       723.4240          25.87262   \n",
            "2  ...  YTf1575975ERA   0.250000        68.0134           2.77500   \n",
            "3  ...  yWN1990786oGp   1.500000       138.2394          34.78000   \n",
            "4  ...  QZE1780236UGM   1.000000       372.2940         134.90200   \n",
            "\n",
            "   area_acre_w  food_cons_usd_w  nonfood_cons_usd_w  treatment  district  \\\n",
            "0     0.500000        220.29800             5.03200          0         2   \n",
            "1     2.998786        606.10329            25.87262          0         2   \n",
            "2     0.250000         68.01340             2.77500          0         2   \n",
            "3     1.500000        138.23940            34.78000          0         2   \n",
            "4     1.000000        372.29400           134.90200          0         2   \n",
            "\n",
            "   district_name  \n",
            "0       Bagamoyo  \n",
            "1       Bagamoyo  \n",
            "2       Bagamoyo  \n",
            "3       Bagamoyo  \n",
            "4       Bagamoyo  \n",
            "\n",
            "[5 rows x 45 columns]\n"
          ]
        }
      ]
    },
    {
      "cell_type": "code",
      "source": [],
      "metadata": {
        "id": "PPLtXpPFP5Uk"
      },
      "execution_count": null,
      "outputs": []
    },
    {
      "cell_type": "markdown",
      "source": [
        "# Display the summary statistics table"
      ],
      "metadata": {
        "id": "rlWM1WGRQTtV"
      }
    },
    {
      "source": [
        "import pandas as pd\n",
        "summary_stats = df.groupby('district')[['hh_size', 'n_child_5', 'food_cons_usd_w', 'area_acre_w', 'crop_damage']].agg(['mean', 'std'])\n",
        "\n",
        "\n",
        "print(summary_stats)"
      ],
      "cell_type": "code",
      "metadata": {
        "colab": {
          "base_uri": "https://localhost:8080/"
        },
        "id": "Ib9n6y3HP6EP",
        "outputId": "0d83a247-0ebc-4fbb-9d2c-c5d507543fc2"
      },
      "execution_count": 4,
      "outputs": [
        {
          "output_type": "stream",
          "name": "stdout",
          "text": [
            "           hh_size           n_child_5           food_cons_usd_w              \\\n",
            "              mean       std      mean       std            mean         std   \n",
            "district                                                                       \n",
            "1         3.245868  1.984277  0.402893  0.725798      130.151047  102.262564   \n",
            "2         4.339402  2.845962  0.508453  0.844864      281.602610  164.302651   \n",
            "3         4.132673  2.613347  0.469307  0.781449      241.507938  157.981962   \n",
            "\n",
            "         area_acre_w           crop_damage            \n",
            "                mean       std        mean       std  \n",
            "district                                              \n",
            "1           1.608237  1.288803    0.390496  0.488366  \n",
            "2           1.689011  1.364971    0.565670  0.495991  \n",
            "3           1.689145  1.377355    0.570297  0.495525  \n"
          ]
        }
      ]
    },
    {
      "cell_type": "code",
      "source": [],
      "metadata": {
        "id": "4FYIwoacRIW8"
      },
      "execution_count": null,
      "outputs": []
    },
    {
      "cell_type": "markdown",
      "source": [
        "# Define the regression model"
      ],
      "metadata": {
        "id": "U_QuWooiRwm-"
      }
    },
    {
      "source": [
        "import statsmodels.formula.api as smf\n",
        "\n",
        "\n",
        "model = smf.ols('food_cons_usd_w ~ treatment', data=df)\n",
        "\n",
        "# Fit the model\n",
        "results = model.fit()\n",
        "\n",
        "# Print the regression results\n",
        "print(results.summary())"
      ],
      "cell_type": "code",
      "metadata": {
        "colab": {
          "base_uri": "https://localhost:8080/"
        },
        "id": "yuuXMMTvRJQn",
        "outputId": "dced15a5-d027-4c06-8aa9-927d3f933598"
      },
      "execution_count": 5,
      "outputs": [
        {
          "output_type": "stream",
          "name": "stdout",
          "text": [
            "                            OLS Regression Results                            \n",
            "==============================================================================\n",
            "Dep. Variable:        food_cons_usd_w   R-squared:                       0.002\n",
            "Model:                            OLS   Adj. R-squared:                  0.002\n",
            "Method:                 Least Squares   F-statistic:                     3.979\n",
            "Date:                Fri, 11 Apr 2025   Prob (F-statistic):             0.0462\n",
            "Time:                        14:33:12   Log-Likelihood:                -11420.\n",
            "No. Observations:                1758   AIC:                         2.284e+04\n",
            "Df Residuals:                    1756   BIC:                         2.286e+04\n",
            "Df Model:                           1                                         \n",
            "Covariance Type:            nonrobust                                         \n",
            "==============================================================================\n",
            "                 coef    std err          t      P>|t|      [0.025      0.975]\n",
            "------------------------------------------------------------------------------\n",
            "Intercept    236.0295      5.414     43.594      0.000     225.410     246.649\n",
            "treatment    -15.2646      7.653     -1.995      0.046     -30.274      -0.256\n",
            "==============================================================================\n",
            "Omnibus:                      171.708   Durbin-Watson:                   1.590\n",
            "Prob(Omnibus):                  0.000   Jarque-Bera (JB):              223.998\n",
            "Skew:                           0.871   Prob(JB):                     2.29e-49\n",
            "Kurtosis:                       2.856   Cond. No.                         2.62\n",
            "==============================================================================\n",
            "\n",
            "Notes:\n",
            "[1] Standard Errors assume that the covariance matrix of the errors is correctly specified.\n"
          ]
        }
      ]
    }
  ]
}