{
 "cells": [
  {
   "cell_type": "markdown",
   "metadata": {},
   "source": [
    "###  Exercises: Level 1\n"
   ]
  },
  {
   "cell_type": "code",
   "execution_count": null,
   "metadata": {},
   "outputs": [],
   "source": [
    "result = map(function, iterable)\n"
   ]
  },
  {
   "cell_type": "markdown",
   "metadata": {},
   "source": [
    "map: Applies a function to each item in an iterable and returns a new iterable with the results."
   ]
  },
  {
   "cell_type": "code",
   "execution_count": null,
   "metadata": {},
   "outputs": [],
   "source": [
    "result = filter(function, iterable)\n"
   ]
  },
  {
   "cell_type": "markdown",
   "metadata": {},
   "source": [
    "filter: Creates a new iterable containing only elements from an iterable that meet a certain condition."
   ]
  },
  {
   "cell_type": "code",
   "execution_count": null,
   "metadata": {},
   "outputs": [],
   "source": [
    "from functools import reduce\n",
    "result = reduce(function, iterable)\n"
   ]
  },
  {
   "cell_type": "markdown",
   "metadata": {},
   "source": [
    "reduce: Applies a function cumulatively to the items of an iterable, reducing it to a single value. (Requires import from functools)"
   ]
  },
  {
   "cell_type": "markdown",
   "metadata": {},
   "source": [
    "Explain the difference between higher order function, closure, and decorator:\n",
    "\n",
    "Higher-order function: A function that takes another function as an argument or returns a function. Examples: map, filter, reduce.\n",
    "\n",
    "Closure: A function that has access to variables in its enclosing scope, even after the enclosing function has finished executing.\n",
    "\n",
    "Decorator: A function that takes another function as an argument and returns a modified version of it, often adding new functionality."
   ]
  },
  {
   "cell_type": "code",
   "execution_count": null,
   "metadata": {},
   "outputs": [],
   "source": [
    "def call_function(item):\n",
    "    return item * 2  # Example function\n",
    "\n",
    "result = map(call_function, numbers)  # Using map\n",
    "result = filter(call_function, numbers)  # Using filter (not a good use case for filter)\n",
    "result = reduce(call_function, numbers)  # Using reduce\n"
   ]
  },
  {
   "cell_type": "code",
   "execution_count": null,
   "metadata": {},
   "outputs": [],
   "source": [
    "for number in numbers:\n",
    "    print(number)\n"
   ]
  }
 ],
 "metadata": {
  "kernelspec": {
   "display_name": "Python 3",
   "language": "python",
   "name": "python3"
  },
  "language_info": {
   "name": "python",
   "version": "3.12.0"
  }
 },
 "nbformat": 4,
 "nbformat_minor": 2
}
