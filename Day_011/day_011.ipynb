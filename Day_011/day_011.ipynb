{
 "cells": [
  {
   "cell_type": "code",
   "execution_count": 1,
   "metadata": {},
   "outputs": [
    {
     "name": "stdout",
     "output_type": "stream",
     "text": [
      "msd1gn\n"
     ]
    }
   ],
   "source": [
    "import random\n",
    "import string\n",
    "\n",
    "def random_user_id():\n",
    " \"\"\"\n",
    " Generates a random six digit/character user ID.\n",
    "\n",
    " Returns:\n",
    "   A string containing a random six digit/character user ID.\n",
    " \"\"\"\n",
    " chars = string.ascii_lowercase + string.digits\n",
    " return ''.join(random.choice(chars) for _ in range(6))\n",
    "\n",
    "# Example usage\n",
    "print(random_user_id())\n"
   ]
  },
  {
   "cell_type": "code",
   "execution_count": null,
   "metadata": {},
   "outputs": [],
   "source": [
    "import random\n",
    "import string\n",
    "\n",
    "def user_id_gen_by_user():\n",
    "  \"\"\"\n",
    "  Generates a specified number of random user IDs with a user-defined length.\n",
    "\n",
    "  Returns:\n",
    "    None. Prints the generated user IDs directly.\n",
    "  \"\"\"\n",
    "\n",
    "  num_chars = int(input(\"Enter the number of characters for each ID: \"))\n",
    "  num_ids = int(input(\"Enter the number of IDs to generate: \"))\n",
    "\n",
    "  chars = string.ascii_letters + string.digits\n",
    "\n",
    "  for _ in range(num_ids):\n",
    "    user_id = ''.join(random.choice(chars) for _ in range(num_chars))\n",
    "    print(user_id)\n"
   ]
  },
  {
   "cell_type": "code",
   "execution_count": null,
   "metadata": {},
   "outputs": [],
   "source": [
    "import random\n",
    "\n",
    "def rgb_color_gen():\n",
    "  \"\"\"\n",
    "  Generates a random RGB color as a tuple of three integers between 0 and 255.\n",
    "\n",
    "  Returns:\n",
    "    A tuple containing three integers representing the red, green, and blue values of the random color.\n",
    "  \"\"\"\n",
    "\n",
    "  red = random.randint(0, 255)\n",
    "  green = random.randint(0, 255)\n",
    "  blue = random.randint(0, 255)\n",
    "  return (red, green, blue)\n",
    "\n",
    "# Example usage\n",
    "random_color = rgb_color_gen()\n",
    "print(f\"Random RGB color: {random_color}\")\n"
   ]
  },
  {
   "cell_type": "markdown",
   "metadata": {},
   "source": [
    "####  Exercises: Level 2"
   ]
  },
  {
   "cell_type": "code",
   "execution_count": null,
   "metadata": {},
   "outputs": [],
   "source": [
    "import random\n",
    "\n",
    "def list_of_hexa_colors(num_colors):\n",
    "  \"\"\"\n",
    "  Generates a list of random hexadecimal colors.\n",
    "\n",
    "  Args:\n",
    "    num_colors: The number of colors to generate.\n",
    "\n",
    "  Returns:\n",
    "    A list of strings representing the hexadecimal colors.\n",
    "  \"\"\"\n",
    "  colors = []\n",
    "  for _ in range(num_colors):\n",
    "    color = \"#\" + \"\".join(random.choice(\"0123456789abcdef\") for _ in range(6))\n",
    "    colors.append(color)\n",
    "  return colors\n",
    "\n",
    "# Example usage\n",
    "hexa_colors = list_of_hexa_colors(3)\n",
    "print(f\"Hexa colors: {hexa_colors}\")\n"
   ]
  },
  {
   "cell_type": "code",
   "execution_count": null,
   "metadata": {},
   "outputs": [],
   "source": [
    "import random\n",
    "\n",
    "def list_of_rgb_colors(num_colors):\n",
    "  \"\"\"\n",
    "  Generates a list of random RGB colors.\n",
    "\n",
    "  Args:\n",
    "    num_colors: The number of colors to generate.\n",
    "\n",
    "  Returns:\n",
    "    A list of strings representing the RGB colors.\n",
    "  \"\"\"\n",
    "  colors = []\n",
    "  for _ in range(num_colors):\n",
    "    red = random.randint(0, 255)\n",
    "    green = random.randint(0, 255)\n",
    "    blue = random.randint(0, 255)\n",
    "    color = f\"rgb({red}, {green}, {blue})\"\n",
    "    colors.append(color)\n",
    "  return colors\n",
    "\n",
    "# Example usage\n",
    "rgb_colors = list_of_rgb_colors(2)\n",
    "print(f\"RGB colors: {rgb_colors}\")\n"
   ]
  },
  {
   "cell_type": "code",
   "execution_count": null,
   "metadata": {},
   "outputs": [],
   "source": [
    "import random\n",
    "\n",
    "def generate_colors(color_type, num_colors):\n",
    "  \"\"\"\n",
    "  Generates a list of colors based on the specified type and number.\n",
    "\n",
    "  Args:\n",
    "    color_type: \"hexa\" for hexadecimal or \"rgb\" for RGB.\n",
    "    num_colors: The number of colors to generate.\n",
    "\n",
    "  Returns:\n",
    "    A list of strings representing the generated colors.\n",
    "  \"\"\"\n",
    "  if color_type == \"hexa\":\n",
    "    return list_of_hexa_colors(num_colors)\n",
    "  elif color_type == \"rgb\":\n",
    "    return list_of_rgb_colors(num_colors)\n",
    "  else:\n",
    "    raise ValueError(f\"Invalid color type: {color_type}\")\n",
    "\n",
    "# Example usage\n",
    "hexa_colors = generate_colors(\"hexa\", 3)\n",
    "print(f\"Hexa colors: {hexa_colors}\")\n",
    "\n",
    "rgb_colors = generate_colors(\"rgb\", 2)\n",
    "print(f\"RGB colors: {rgb_colors}\")\n"
   ]
  },
  {
   "cell_type": "markdown",
   "metadata": {},
   "source": [
    "###  Exercises: Level 3"
   ]
  },
  {
   "cell_type": "code",
   "execution_count": null,
   "metadata": {},
   "outputs": [
    {
     "ename": "",
     "evalue": "",
     "output_type": "error",
     "traceback": [
      "\u001b[1;31mFailed to start the Kernel. \n",
      "\u001b[1;31mUnable to start Kernel 'Python 3.12.0' due to a timeout waiting for the ports to get used. \n",
      "\u001b[1;31mView Jupyter <a href='command:jupyter.viewOutput'>log</a> for further details."
     ]
    }
   ],
   "source": [
    "import random\n",
    "\n",
    "def shuffle_list(data):\n",
    "  \"\"\"\n",
    "  Shuffles a list using the Fisher-Yates shuffle algorithm.\n",
    "\n",
    "  Args:\n",
    "    data: The list to be shuffled.\n",
    "\n",
    "  Returns:\n",
    "    A new list with the elements of the original list in a random order.\n",
    "  \"\"\"\n",
    "  for i in range(len(data) - 1, 0, -1):\n",
    "    j = random.randint(0, i)\n",
    "    data[i], data[j] = data[j], data[i]\n",
    "  return data\n",
    "\n",
    "# Example usage\n",
    "my_list = [1, 2, 3, 4, 5]\n",
    "shuffled_list = shuffle_list(my_list)\n",
    "print(f\"Original list: {my_list}\")\n",
    "print(f\"Shuffled list: {shuffled_list}\")\n"
   ]
  },
  {
   "cell_type": "code",
   "execution_count": null,
   "metadata": {},
   "outputs": [
    {
     "ename": "",
     "evalue": "",
     "output_type": "error",
     "traceback": [
      "\u001b[1;31mFailed to start the Kernel. \n",
      "\u001b[1;31mUnable to start Kernel 'Python 3.12.0' due to a timeout waiting for the ports to get used. \n",
      "\u001b[1;31mView Jupyter <a href='command:jupyter.viewOutput'>log</a> for further details."
     ]
    }
   ],
   "source": [
    "import random\n",
    "\n",
    "def generate_unique_random_numbers(num_numbers, range_start, range_end):\n",
    "  \"\"\"\n",
    "  Generates a list of unique random numbers within a specified range.\n",
    "\n",
    "  Args:\n",
    "    num_numbers: The number of unique numbers to generate.\n",
    "    range_start: The start of the number range (inclusive).\n",
    "    range_end: The end of the number range (exclusive).\n",
    "\n",
    "  Returns:\n",
    "    A list of unique random numbers.\n",
    "\n",
    "  Raises:\n",
    "    ValueError: If the number of unique numbers requested is greater than\n",
    "                the possible range of numbers.\n",
    "  \"\"\"\n",
    "\n",
    "  if num_numbers > range_end - range_start:\n",
    "    raise ValueError(f\"Cannot generate {num_numbers} unique numbers in the range {range_start}-{range_end}.\")\n",
    "\n",
    "  numbers = []\n",
    "  while len(numbers) < num_numbers:\n",
    "    random_number = random.randint(range_start, range_end - 1)\n",
    "    if random_number not in numbers:\n",
    "      numbers.append(random_number)\n",
    "  return numbers\n",
    "\n",
    "# Example usage\n",
    "unique_numbers = generate_unique_random_numbers(7, 0, 10)  # Generate 7 unique numbers between 0 and 9\n",
    "print(f\"Unique random numbers: {unique_numbers}\")\n"
   ]
  }
 ],
 "metadata": {
  "kernelspec": {
   "display_name": "Python 3",
   "language": "python",
   "name": "python3"
  },
  "language_info": {
   "codemirror_mode": {
    "name": "ipython",
    "version": 3
   },
   "file_extension": ".py",
   "mimetype": "text/x-python",
   "name": "python",
   "nbconvert_exporter": "python",
   "pygments_lexer": "ipython3",
   "version": "3.12.0"
  }
 },
 "nbformat": 4,
 "nbformat_minor": 2
}
