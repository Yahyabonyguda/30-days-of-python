{
 "cells": [
  {
   "cell_type": "markdown",
   "metadata": {},
   "source": [
    "###  Exercises: Day 7"
   ]
  },
  {
   "cell_type": "code",
   "execution_count": 1,
   "metadata": {},
   "outputs": [
    {
     "name": "stdout",
     "output_type": "stream",
     "text": [
      "7\n"
     ]
    }
   ],
   "source": [
    "# sets\n",
    "it_companies = {'Facebook', 'Google', 'Microsoft', 'Apple', 'IBM', 'Oracle', 'Amazon'}\n",
    "A = {19, 22, 24, 20, 25, 26}\n",
    "B = {19, 22, 20, 25, 26, 24, 28, 27}\n",
    "age = [22, 19, 24, 25, 26, 24, 25, 24]\n",
    "print(len(it_companies))  \n"
   ]
  },
  {
   "cell_type": "code",
   "execution_count": 2,
   "metadata": {},
   "outputs": [
    {
     "name": "stdout",
     "output_type": "stream",
     "text": [
      "{'Microsoft', 'IBM', 'Facebook', 'Amazon', 'Google', 'Twitter', 'Apple', 'Oracle'}\n"
     ]
    }
   ],
   "source": [
    "it_companies.add('Twitter')\n",
    "print(it_companies)  \n"
   ]
  },
  {
   "cell_type": "code",
   "execution_count": 3,
   "metadata": {},
   "outputs": [
    {
     "name": "stdout",
     "output_type": "stream",
     "text": [
      "{'Meta', 'Amazon', 'Twitter', 'Apple', 'Oracle', 'Netflix', 'Facebook', 'Microsoft', 'Google', 'IBM', 'Tesla'}\n"
     ]
    }
   ],
   "source": [
    "new_companies = {'Netflix', 'Tesla', 'Meta'}\n",
    "it_companies.update(new_companies)\n",
    "print(it_companies)  \n"
   ]
  },
  {
   "cell_type": "code",
   "execution_count": 4,
   "metadata": {},
   "outputs": [
    {
     "name": "stdout",
     "output_type": "stream",
     "text": [
      "{'Meta', 'Amazon', 'Twitter', 'Oracle', 'Netflix', 'Facebook', 'Microsoft', 'Google', 'IBM', 'Tesla'}\n"
     ]
    }
   ],
   "source": [
    "it_companies.remove('Apple')  # Removes 'Apple'\n",
    "print(it_companies)  \n"
   ]
  },
  {
   "cell_type": "markdown",
   "metadata": {},
   "source": [
    "Difference between remove and discard:\n",
    "\n",
    "remove(element): Removes the specified element from the set. If the element is not found, it raises a KeyError exception.\n",
    "discard(element): Also removes the specified element, but if the element is not found, it does nothing (no exception is raised)."
   ]
  },
  {
   "cell_type": "code",
   "execution_count": 6,
   "metadata": {},
   "outputs": [
    {
     "name": "stdout",
     "output_type": "stream",
     "text": [
      "'Netflix' was not found in the set.\n"
     ]
    }
   ],
   "source": [
    "try:\n",
    "  it_companies.remove('Netflix')  # Removes 'Netflix' if it exists\n",
    "except KeyError:\n",
    "  print(\"'Netflix' was not found in the set.\")\n",
    "\n",
    "it_companies.discard('Microsoft')  \n"
   ]
  },
  {
   "cell_type": "markdown",
   "metadata": {},
   "source": [
    "###  Exercises: Level 2"
   ]
  },
  {
   "cell_type": "code",
   "execution_count": 8,
   "metadata": {},
   "outputs": [
    {
     "name": "stdout",
     "output_type": "stream",
     "text": [
      "{19, 20, 22, 24, 25, 26, 27, 28}\n"
     ]
    }
   ],
   "source": [
    "joined_set = A.union(B)\n",
    "print(joined_set)  \n"
   ]
  },
  {
   "cell_type": "code",
   "execution_count": 9,
   "metadata": {},
   "outputs": [
    {
     "name": "stdout",
     "output_type": "stream",
     "text": [
      "{19, 20, 22, 24, 25, 26}\n"
     ]
    }
   ],
   "source": [
    "intersection = A.intersection(B)\n",
    "print(intersection)  \n"
   ]
  },
  {
   "cell_type": "code",
   "execution_count": 10,
   "metadata": {},
   "outputs": [
    {
     "name": "stdout",
     "output_type": "stream",
     "text": [
      "True\n"
     ]
    }
   ],
   "source": [
    "is_subset = A.issubset(B)\n",
    "print(is_subset)  \n"
   ]
  },
  {
   "cell_type": "code",
   "execution_count": 11,
   "metadata": {},
   "outputs": [
    {
     "name": "stdout",
     "output_type": "stream",
     "text": [
      "False\n"
     ]
    }
   ],
   "source": [
    "is_disjoint = A.isdisjoint(B)\n",
    "print(is_disjoint)  \n"
   ]
  },
  {
   "cell_type": "code",
   "execution_count": 12,
   "metadata": {},
   "outputs": [
    {
     "name": "stdout",
     "output_type": "stream",
     "text": [
      "{19, 20, 22, 24, 25, 26, 27, 28}\n",
      "{19, 20, 22, 24, 25, 26, 27, 28}\n"
     ]
    }
   ],
   "source": [
    "union_AB = A.union(B)\n",
    "union_BA = B.union(A)\n",
    "print(union_AB)  \n",
    "print(union_BA)  \n"
   ]
  },
  {
   "cell_type": "code",
   "execution_count": 14,
   "metadata": {},
   "outputs": [
    {
     "name": "stdout",
     "output_type": "stream",
     "text": [
      "{27, 28}\n"
     ]
    }
   ],
   "source": [
    "symmetric_difference = A.symmetric_difference(B)\n",
    "print(symmetric_difference)  \n"
   ]
  },
  {
   "cell_type": "code",
   "execution_count": 15,
   "metadata": {},
   "outputs": [
    {
     "ename": "NameError",
     "evalue": "name 'A' is not defined",
     "output_type": "error",
     "traceback": [
      "\u001b[1;31m---------------------------------------------------------------------------\u001b[0m",
      "\u001b[1;31mNameError\u001b[0m                                 Traceback (most recent call last)",
      "Cell \u001b[1;32mIn[15], line 5\u001b[0m\n\u001b[0;32m      2\u001b[0m \u001b[38;5;28;01mdel\u001b[39;00m B\n\u001b[0;32m      4\u001b[0m \u001b[38;5;66;03m# Try to print A or B to verify deletion:\u001b[39;00m\n\u001b[1;32m----> 5\u001b[0m \u001b[38;5;28mprint\u001b[39m(\u001b[43mA\u001b[49m)  \n\u001b[0;32m      6\u001b[0m \u001b[38;5;28mprint\u001b[39m(B)\n",
      "\u001b[1;31mNameError\u001b[0m: name 'A' is not defined"
     ]
    }
   ],
   "source": [
    "del A\n",
    "del B\n",
    "\n",
    "# Try to print A or B to verify deletion:\n",
    "print(A)  \n",
    "print(B)\n"
   ]
  },
  {
   "cell_type": "markdown",
   "metadata": {},
   "source": [
    "###  Exercises: Level 3"
   ]
  },
  {
   "cell_type": "code",
   "execution_count": 16,
   "metadata": {},
   "outputs": [
    {
     "name": "stdout",
     "output_type": "stream",
     "text": [
      "List is bigger, with duplicates.\n"
     ]
    }
   ],
   "source": [
    "ages = [22, 19, 24, 25, 26, 24, 25, 24]\n",
    "\n",
    "ages_set = set(ages)\n",
    "\n",
    "# Compare lengths\n",
    "if len(ages) > len(ages_set):\n",
    "    print(\"List is bigger, with duplicates.\")\n",
    "elif len(ages) < len(ages_set):\n",
    "    print(\"Set is bigger, with unique elements.\")\n",
    "else:\n",
    "    print(\"List and set have the same length (no duplicates).\")\n"
   ]
  },
  {
   "cell_type": "markdown",
   "metadata": {},
   "source": [
    "String: An ordered sequence of characters used to represent text. Enclosed in single or double quotes. Immutable.\n",
    "\n",
    "List: An ordered collection of items, which can be of different data types. Enclosed in square brackets, mutable.\n",
    "\n",
    "Set: An unordered collection of unique elements. Used for membership testing and removing duplicates. Enclosed in curly braces."
   ]
  },
  {
   "cell_type": "markdown",
   "metadata": {},
   "source": []
  },
  {
   "cell_type": "code",
   "execution_count": 17,
   "metadata": {},
   "outputs": [
    {
     "name": "stdout",
     "output_type": "stream",
     "text": [
      "Number of unique words: 10\n"
     ]
    }
   ],
   "source": [
    "sentence = \"I am a teacher and I love to inspire and teach people.\"\n",
    "\n",
    "words = sentence.split()  \n",
    "unique_words = set(words)  \n",
    "\n",
    "print(\"Number of unique words:\", len(unique_words))\n"
   ]
  }
 ],
 "metadata": {
  "kernelspec": {
   "display_name": "Python 3",
   "language": "python",
   "name": "python3"
  },
  "language_info": {
   "codemirror_mode": {
    "name": "ipython",
    "version": 3
   },
   "file_extension": ".py",
   "mimetype": "text/x-python",
   "name": "python",
   "nbconvert_exporter": "python",
   "pygments_lexer": "ipython3",
   "version": "3.12.0"
  }
 },
 "nbformat": 4,
 "nbformat_minor": 2
}
