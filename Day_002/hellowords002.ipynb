{
 "cells": [
  {
   "cell_type": "markdown",
   "metadata": {},
   "source": [
    "####   Day 2 - Variables, Builtin Functions"
   ]
  },
  {
   "cell_type": "markdown",
   "metadata": {},
   "source": [
    "###  Exercises: Level 1"
   ]
  },
  {
   "cell_type": "code",
   "execution_count": 5,
   "metadata": {},
   "outputs": [
    {
     "name": "stdout",
     "output_type": "stream",
     "text": [
      "Full name: Yahaya Musa\n",
      "Country: France\n",
      "City: Kaduna\n",
      "Age: 25\n",
      "Year: 2024\n",
      "Married: False\n",
      "True: True\n",
      "Light on: True\n",
      "Another person: Jane, 25, France\n"
     ]
    }
   ],
   "source": [
    "\n",
    "\n",
    "# Create variables\n",
    "first_name = \"Yahaya\"\n",
    "last_name = \"Musa\"\n",
    "full_name = f\"{first_name} {last_name}\"  # String formatting\n",
    "country = \"Nigeria\"\n",
    "city = \"Kaduna\"\n",
    "age = 30\n",
    "year = 2024\n",
    "is_married = False\n",
    "is_true = True\n",
    "is_light_on = True\n",
    "\n",
    "# Multiple variables on one line\n",
    "name, age, country = \"Jane\", 25, \"France\"  # Assigning multiple values at once\n",
    "\n",
    "# Print information\n",
    "print(f\"Full name: {full_name}\")\n",
    "print(f\"Country: {country}\")\n",
    "print(f\"City: {city}\")\n",
    "print(f\"Age: {age}\")\n",
    "print(f\"Year: {year}\")\n",
    "print(f\"Married: {is_married}\")\n",
    "print(f\"True: {is_true}\")\n",
    "print(f\"Light on: {is_light_on}\")\n",
    "print(f\"Another person: {name}, {age}, {country}\")\n"
   ]
  },
  {
   "cell_type": "markdown",
   "metadata": {},
   "source": [
    "####  Exercises: Level 2"
   ]
  },
  {
   "cell_type": "code",
   "execution_count": 1,
   "metadata": {},
   "outputs": [
    {
     "name": "stdout",
     "output_type": "stream",
     "text": [
      "yahaya\n",
      "muhammad\n"
     ]
    }
   ],
   "source": [
    "first_name = \"yahaya\"\n",
    "last_name = \"muhammad\"\n",
    "print(first_name)\n",
    "print(last_name)\n",
    "\n"
   ]
  },
  {
   "cell_type": "code",
   "execution_count": 2,
   "metadata": {},
   "outputs": [
    {
     "name": "stdout",
     "output_type": "stream",
     "text": [
      "Length of first name: 6\n"
     ]
    }
   ],
   "source": [
    "first_name_length = len(first_name)\n",
    "print(f\"Length of first name: {first_name_length}\")\n"
   ]
  },
  {
   "cell_type": "code",
   "execution_count": 3,
   "metadata": {},
   "outputs": [
    {
     "name": "stdout",
     "output_type": "stream",
     "text": [
      "Last name is longer than first name.\n"
     ]
    }
   ],
   "source": [
    "if len(first_name) > len(last_name):\n",
    "    print(\"First name is longer than last name.\")\n",
    "elif len(first_name) < len(last_name):\n",
    "    print(\"Last name is longer than first name.\")\n",
    "else:\n",
    "    print(\"First name and last name have the same length.\")\n"
   ]
  },
  {
   "cell_type": "code",
   "execution_count": 4,
   "metadata": {},
   "outputs": [
    {
     "name": "stdout",
     "output_type": "stream",
     "text": [
      "Total: 9\n",
      "Difference: 1\n"
     ]
    }
   ],
   "source": [
    "num_one = 5\n",
    "num_two = 4\n",
    "\n",
    "total = num_one + num_two\n",
    "diff = num_one - num_two\n",
    "product = num_two * num_one\n",
    "division = num_one / num_two\n",
    "remainder = num_two % num_one\n",
    "exp = num_one ** num_two\n",
    "floor_division = num_one // num_two\n",
    "\n",
    "print(f\"Total: {total}\")\n",
    "print(f\"Difference: {diff}\")\n"
   ]
  },
  {
   "cell_type": "code",
   "execution_count": 5,
   "metadata": {},
   "outputs": [
    {
     "name": "stdout",
     "output_type": "stream",
     "text": [
      "Area of circle: 2827.431\n",
      "Circumference of circle: 188.4954\n"
     ]
    }
   ],
   "source": [
    "radius = 30\n",
    "area_of_circle = 3.14159 * radius**2\n",
    "circum_of_circle = 2 * 3.14159 * radius\n",
    "\n",
    "print(f\"Area of circle: {area_of_circle}\")\n",
    "print(f\"Circumference of circle: {circum_of_circle}\")\n"
   ]
  },
  {
   "cell_type": "code",
   "execution_count": 6,
   "metadata": {},
   "outputs": [
    {
     "name": "stdout",
     "output_type": "stream",
     "text": [
      "Area of circle: 153.93791\n",
      "Full name: yahaya  muhammad \n",
      "Country: nigeria\n",
      "Age: 28\n"
     ]
    }
   ],
   "source": [
    "radius = 7\n",
    "area = 3.14159 * radius**2\n",
    "print(f\"Area of circle: {area}\")\n",
    "\n",
    "first_name = (\"yahaya \")\n",
    "last_name = (\"muhammad \")\n",
    "country = (\"nigeria\")\n",
    "age = 28\n",
    "\n",
    "print(f\"Full name: {first_name} {last_name}\")\n",
    "print(f\"Country: {country}\")\n",
    "print(f\"Age: {age}\")\n"
   ]
  },
  {
   "cell_type": "code",
   "execution_count": 7,
   "metadata": {},
   "outputs": [
    {
     "name": "stdout",
     "output_type": "stream",
     "text": [
      "\n",
      "Here is a list of the Python keywords.  Enter any keyword to get more help.\n",
      "\n",
      "False               class               from                or\n",
      "None                continue            global              pass\n",
      "True                def                 if                  raise\n",
      "and                 del                 import              return\n",
      "as                  elif                in                  try\n",
      "assert              else                is                  while\n",
      "async               except              lambda              with\n",
      "await               finally             nonlocal            yield\n",
      "break               for                 not                 \n",
      "\n"
     ]
    }
   ],
   "source": [
    "help('keywords')\n"
   ]
  }
 ],
 "metadata": {
  "kernelspec": {
   "display_name": "Python 3",
   "language": "python",
   "name": "python3"
  },
  "language_info": {
   "codemirror_mode": {
    "name": "ipython",
    "version": 3
   },
   "file_extension": ".py",
   "mimetype": "text/x-python",
   "name": "python",
   "nbconvert_exporter": "python",
   "pygments_lexer": "ipython3",
   "version": "3.12.0"
  }
 },
 "nbformat": 4,
 "nbformat_minor": 2
}
