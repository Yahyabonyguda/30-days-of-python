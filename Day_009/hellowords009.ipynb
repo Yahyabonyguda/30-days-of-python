{
 "cells": [
  {
   "cell_type": "markdown",
   "metadata": {},
   "source": [
    "####  Day 9 - Conditionals"
   ]
  },
  {
   "cell_type": "markdown",
   "metadata": {},
   "source": [
    "###  Exercises: Level 1\n"
   ]
  },
  {
   "cell_type": "code",
   "execution_count": 2,
   "metadata": {},
   "outputs": [
    {
     "name": "stdout",
     "output_type": "stream",
     "text": [
      "You are old enough to drive.\n"
     ]
    }
   ],
   "source": [
    "\n",
    "age = 18\n",
    "if age >= 18:\n",
    "   print(\"You are old enough to drive.\")\n",
    "else:\n",
    "   years_to_wait = 18 - age\n",
    "   print(f\"You need to wait {years_to_wait} more year(s) to be old enough to drive.\")\n"
   ]
  },
  {
   "cell_type": "code",
   "execution_count": 4,
   "metadata": {},
   "outputs": [
    {
     "name": "stdout",
     "output_type": "stream",
     "text": [
      "You are 5 years older than me.\n"
     ]
    }
   ],
   "source": [
    "my_age = 30\n",
    "your_age = 35\n",
    "\n",
    "age_difference = abs(my_age - your_age)\n",
    "\n",
    "if my_age == your_age:\n",
    "    print(\"We are the same age!\")\n",
    "elif my_age > your_age:\n",
    "    if age_difference == 1:\n",
    "        print(f\"I am 1 year older than you.\")\n",
    "    else:\n",
    "        print(f\"I am {age_difference} years older than you.\")\n",
    "else:\n",
    "    if age_difference == 1:\n",
    "        print(f\"You are 1 year older than me.\")\n",
    "    else:\n",
    "        print(f\"You are {age_difference} years older than me.\")\n"
   ]
  },
  {
   "cell_type": "code",
   "execution_count": 5,
   "metadata": {},
   "outputs": [
    {
     "name": "stdout",
     "output_type": "stream",
     "text": [
      "4 is greater than 3\n"
     ]
    }
   ],
   "source": [
    "\n",
    "a = 4\n",
    "b = 3\n",
    "\n",
    "# Compare the numbers and print the result\n",
    "if a > b:\n",
    "    print(f\"{a} is greater than {b}\")\n",
    "elif a < b:\n",
    "    print(f\"{a} is smaller than {b}\")\n",
    "else:\n",
    "    print(f\"{a} is equal to {b}\")\n"
   ]
  },
  {
   "cell_type": "markdown",
   "metadata": {},
   "source": [
    "### Exercises: Level 2"
   ]
  },
  {
   "cell_type": "code",
   "execution_count": 6,
   "metadata": {},
   "outputs": [
    {
     "name": "stdout",
     "output_type": "stream",
     "text": [
      "Score: 85, Grade: A\n"
     ]
    }
   ],
   "source": [
    "score = 85  \n",
    "\n",
    "if score >= 80:\n",
    "    grade = \"A\"\n",
    "elif score >= 70:\n",
    "    grade = \"B\"\n",
    "elif score >= 60:\n",
    "    grade = \"C\"\n",
    "elif score >= 50:\n",
    "    grade = \"D\"\n",
    "else:\n",
    "    grade = \"F\"\n",
    "\n",
    "print(f\"Score: {score}, Grade: {grade}\")\n"
   ]
  },
  {
   "cell_type": "code",
   "execution_count": 7,
   "metadata": {},
   "outputs": [
    {
     "name": "stdout",
     "output_type": "stream",
     "text": [
      "The season is: Autumn\n"
     ]
    }
   ],
   "source": [
    "\n",
    "month = (\"september\")\n",
    "month = month.lower()  # Convert to lowercase for case-insensitive comparison\n",
    "\n",
    "# Determine the season based on the month\n",
    "if month in [\"september\", \"october\", \"november\"]:\n",
    "    season = \"Autumn\"\n",
    "elif month in [\"december\", \"january\", \"february\"]:\n",
    "    season = \"Winter\"\n",
    "elif month in [\"march\", \"april\", \"may\"]:\n",
    "    season = \"Spring\"\n",
    "else:\n",
    "    season = \"Summer\"\n",
    "\n",
    "# Print the season\n",
    "print(\"The season is:\", season)\n"
   ]
  },
  {
   "cell_type": "code",
   "execution_count": 8,
   "metadata": {},
   "outputs": [
    {
     "name": "stdout",
     "output_type": "stream",
     "text": [
      "Modified list: ['banana', 'orange', 'mango', 'lemon', 'apple']\n"
     ]
    }
   ],
   "source": [
    "fruits = ['banana', 'orange', 'mango', 'lemon']\n",
    "new_fruit = \"apple\"\n",
    "\n",
    "if new_fruit in fruits:\n",
    "   print(f\"'{new_fruit}' already exists in the list.\")\n",
    "else:\n",
    "   fruits.append(new_fruit)\n",
    "   print(f\"Modified list: {fruits}\")\n"
   ]
  },
  {
   "cell_type": "markdown",
   "metadata": {},
   "source": [
    "####   Exercises: Level 3"
   ]
  },
  {
   "cell_type": "code",
   "execution_count": 9,
   "metadata": {},
   "outputs": [
    {
     "name": "stdout",
     "output_type": "stream",
     "text": [
      "Middle skill: Node\n"
     ]
    }
   ],
   "source": [
    "        person={\n",
    "    'first_name': 'Asabeneh',\n",
    "    'last_name': 'Yetayeh',\n",
    "    'age': 250,\n",
    "    'country': 'Finland',\n",
    "    'is_marred': True,\n",
    "    'skills': ['JavaScript', 'React', 'Node', 'MongoDB', 'Python'],\n",
    "    'address': {\n",
    "        'street': 'Space street',\n",
    "        'zipcode': '02210'\n",
    "    }\n",
    "    }\n",
    "if \"skills\" in person:\n",
    "    middle_index = len(person[\"skills\"]) // 2\n",
    "    middle_skill = person[\"skills\"][middle_index]\n",
    "    print(\"Middle skill:\", middle_skill)\n"
   ]
  },
  {
   "cell_type": "code",
   "execution_count": 10,
   "metadata": {},
   "outputs": [
    {
     "name": "stdout",
     "output_type": "stream",
     "text": [
      "Has Python skill: True\n"
     ]
    }
   ],
   "source": [
    "if \"skills\" in person:\n",
    "    has_python_skill = \"Python\" in person[\"skills\"]\n",
    "    print(\"Has Python skill:\", has_python_skill)\n"
   ]
  },
  {
   "cell_type": "code",
   "execution_count": 12,
   "metadata": {},
   "outputs": [
    {
     "name": "stdout",
     "output_type": "stream",
     "text": [
      "Unknown title\n"
     ]
    }
   ],
   "source": [
    "if \"skills\" in person:\n",
    "    skills = person[\"skills\"]\n",
    "    if set(skills) == {\"JavaScript\", \"React\"}:\n",
    "        print(\"He is a front end developer\")\n",
    "    elif set(skills) == {\"Node\", \"Python\", \"MongoDB\"}:\n",
    "        print(\"He is a backend developer\")\n",
    "    elif set(skills) == {\"React\", \"Node\", \"MongoDB\"}:\n",
    "        print(\"He is a fullstack developer\")\n",
    "    else:\n",
    "        print(\"Unknown title\")\n"
   ]
  },
  {
   "cell_type": "code",
   "execution_count": 13,
   "metadata": {},
   "outputs": [
    {
     "name": "stdout",
     "output_type": "stream",
     "text": [
      "Full Name: Asabeneh Yetayeh\n",
      "Country: Finland\n",
      "Status: Married\n",
      "Address: Space street ,  02210\n"
     ]
    }
   ],
   "source": [
    "if person[\"is_marred\"] and person[\"country\"] == \"Finland\":\n",
    "    print(\"Full Name:\", person[\"first_name\"], person[\"last_name\"])\n",
    "    print(\"Country:\", person[\"country\"])\n",
    "    print(\"Status: Married\")\n",
    "    print(\"Address:\", person[\"address\"][\"street\"], \", \", person[\"address\"][\"zipcode\"])\n"
   ]
  }
 ],
 "metadata": {
  "kernelspec": {
   "display_name": "Python 3",
   "language": "python",
   "name": "python3"
  },
  "language_info": {
   "codemirror_mode": {
    "name": "ipython",
    "version": 3
   },
   "file_extension": ".py",
   "mimetype": "text/x-python",
   "name": "python",
   "nbconvert_exporter": "python",
   "pygments_lexer": "ipython3",
   "version": "3.12.0"
  }
 },
 "nbformat": 4,
 "nbformat_minor": 2
}
