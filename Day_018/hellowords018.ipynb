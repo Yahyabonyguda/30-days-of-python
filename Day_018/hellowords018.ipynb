{
 "cells": [
  {
   "cell_type": "markdown",
   "metadata": {},
   "source": [
    "###  Day 18 - Regular Expressions"
   ]
  },
  {
   "cell_type": "markdown",
   "metadata": {},
   "source": [
    "#### Exercises: Level 1"
   ]
  },
  {
   "cell_type": "code",
   "execution_count": 1,
   "metadata": {},
   "outputs": [
    {
     "name": "stdout",
     "output_type": "stream",
     "text": [
      "The most frequent word is: you\n"
     ]
    }
   ],
   "source": [
    "import collections\n",
    "\n",
    "paragraph = 'I love teaching. If you do not love teaching what else can you love. I love Python if you do not love something which can give you all the capabilities to develop an application what else can you love.'\n",
    "\n",
    "# Convert to lowercase and split into words\n",
    "words = paragraph.lower().split()\n",
    "\n",
    "# Count the frequency of each word\n",
    "word_counts = collections.Counter(words)\n",
    "\n",
    "# Get the most frequent word(s)\n",
    "most_frequent_word = word_counts.most_common(1)[0][0]\n",
    "\n",
    "print(\"The most frequent word is:\", most_frequent_word)\n"
   ]
  },
  {
   "cell_type": "code",
   "execution_count": 2,
   "metadata": {},
   "outputs": [
    {
     "name": "stdout",
     "output_type": "stream",
     "text": [
      "The most frequent word is: love\n"
     ]
    }
   ],
   "source": [
    "word_counts = [\n",
    "    (6, 'love'),\n",
    "    (5, 'you'),\n",
    "    (3, 'can'),\n",
    "    (2, 'what'),\n",
    "    (2, 'teaching'),\n",
    "    (2, 'not'),\n",
    "    (2, 'else'),\n",
    "    (2, 'do'),\n",
    "    (2, 'I'),\n",
    "    (1, 'which'),\n",
    "    (1, 'to'),\n",
    "    (1, 'the'),\n",
    "    (1, 'something'),\n",
    "    (1, 'if'),\n",
    "    (1, 'give'),\n",
    "    (1, 'develop'),\n",
    "    (1, 'capabilities'),\n",
    "    (1, 'application'),\n",
    "    (1, 'an'),\n",
    "    (1, 'all'),\n",
    "    (1, 'Python'),\n",
    "    (1, 'If')\n",
    "]\n",
    "\n",
    "# Sort the list in descending order of frequency\n",
    "word_counts.sort(reverse=True)\n",
    "\n",
    "# Get the most frequent word(s)\n",
    "most_frequent_word = word_counts[0][1]\n",
    "\n",
    "print(\"The most frequent word is:\", most_frequent_word)\n"
   ]
  },
  {
   "cell_type": "code",
   "execution_count": 3,
   "metadata": {},
   "outputs": [
    {
     "name": "stdout",
     "output_type": "stream",
     "text": [
      "The distance between the two furthest particles is: 12\n"
     ]
    }
   ],
   "source": [
    "import re\n",
    "\n",
    "text = \"The position of some particles on the horizontal x-axis are -12, -4, -3 and -1 in the negative direction, 0 at origin, 4 and 8 in the positive direction.\"\n",
    "\n",
    "# Extract numbers using a regular expression\n",
    "numbers = re.findall(r\"\\d+\", text)\n",
    "\n",
    "# Convert extracted numbers to integers\n",
    "points = [int(num) for num in numbers]\n",
    "\n",
    "# Sort the points to find the furthest particles\n",
    "sorted_points = sorted(points)\n",
    "\n",
    "# Calculate the distance between the furthest particles\n",
    "distance = sorted_points[-1] - sorted_points[0]\n",
    "\n",
    "print(\"The distance between the two furthest particles is:\", distance)\n"
   ]
  },
  {
   "cell_type": "code",
   "execution_count": 7,
   "metadata": {},
   "outputs": [
    {
     "name": "stdout",
     "output_type": "stream",
     "text": [
      "False\n"
     ]
    }
   ],
   "source": [
    "sorted_points =  [-12, -4, -3, -1, -1, 0, 2, 4, 8]\n",
    "sum = sum in sorted_points \n",
    "print(sum)"
   ]
  },
  {
   "cell_type": "code",
   "execution_count": 1,
   "metadata": {},
   "outputs": [
    {
     "name": "stdout",
     "output_type": "stream",
     "text": [
      "True\n",
      "True\n",
      "True\n",
      "True\n",
      "False\n",
      "False\n",
      "False\n",
      "True\n"
     ]
    }
   ],
   "source": [
    "import re\n",
    "\n",
    "def is_valid_python_var(var_name):\n",
    "  \"\"\"Checks if a string is a valid Python variable name.\"\"\"\n",
    "\n",
    "  pattern = r'^[a-zA-Z_]\\w*$'\n",
    "  return bool(re.match(pattern, var_name))\n",
    "\n",
    "# Test cases\n",
    "print(is_valid_python_var(\"my_variable\"))      \n",
    "print(is_valid_python_var(\"_counter\"))       \n",
    "print(is_valid_python_var(\"x10\"))            \n",
    "print(is_valid_python_var(\"is_prime\"))        \n",
    "print(is_valid_python_var(\"123abc\"))          \n",
    "print(is_valid_python_var(\"my-variable\"))     \n",
    "print(is_valid_python_var(\"special$\"))       \n",
    "print(is_valid_python_var(\"class\"))          \n"
   ]
  },
  {
   "cell_type": "markdown",
   "metadata": {},
   "source": [
    "###  Exercises: Level 3"
   ]
  },
  {
   "cell_type": "code",
   "execution_count": 3,
   "metadata": {},
   "outputs": [
    {
     "name": "stdout",
     "output_type": "stream",
     "text": [
      "I am a teacher and I love teaching There is nothing as more rewarding as educating and empowering people I found teaching more interesting than any other jobs Does this motivate you to be a teacher\n"
     ]
    }
   ],
   "source": [
    "sentence = '''%I $am@% a %tea@cher%, &and& I lo%#ve %tea@ching%;. There $is nothing; &as& mo@re rewarding as educa@ting &and& @emp%o@wering peo@ple. ;I found tea@ching m%o@re interesting tha@n any other %jo@bs. %Do@es thi%s mo@tivate yo@u to be a tea@cher!?'''\n",
    "import re\n",
    "\n",
    "clean_sentence = re.sub(r'[^a-zA-Z0-9\\s]', '', sentence)\n",
    "print(clean_sentence)\n"
   ]
  }
 ],
 "metadata": {
  "kernelspec": {
   "display_name": "Python 3",
   "language": "python",
   "name": "python3"
  },
  "language_info": {
   "codemirror_mode": {
    "name": "ipython",
    "version": 3
   },
   "file_extension": ".py",
   "mimetype": "text/x-python",
   "name": "python",
   "nbconvert_exporter": "python",
   "pygments_lexer": "ipython3",
   "version": "3.12.0"
  }
 },
 "nbformat": 4,
 "nbformat_minor": 2
}
