{
 "cells": [
  {
   "cell_type": "markdown",
   "metadata": {},
   "source": [
    "###  Exercises - Day 3"
   ]
  },
  {
   "cell_type": "code",
   "execution_count": 1,
   "metadata": {},
   "outputs": [
    {
     "name": "stdout",
     "output_type": "stream",
     "text": [
      "My age is: 30\n"
     ]
    }
   ],
   "source": [
    "my_age = 30\n",
    "print(f\"My age is: {my_age}\")"
   ]
  },
  {
   "cell_type": "code",
   "execution_count": 2,
   "metadata": {},
   "outputs": [
    {
     "name": "stdout",
     "output_type": "stream",
     "text": [
      "My height is: 1.75\n"
     ]
    }
   ],
   "source": [
    "my_height = 1.75\n",
    "print(f\"My height is: {my_height}\")"
   ]
  },
  {
   "cell_type": "code",
   "execution_count": 3,
   "metadata": {},
   "outputs": [
    {
     "name": "stdout",
     "output_type": "stream",
     "text": [
      "My complex number is: (2+1j)\n"
     ]
    }
   ],
   "source": [
    "my_complex_number = 1j + 2\n",
    "print(f\"My complex number is: {my_complex_number}\")"
   ]
  },
  {
   "cell_type": "code",
   "execution_count": 1,
   "metadata": {},
   "outputs": [
    {
     "name": "stdout",
     "output_type": "stream",
     "text": [
      "The area of the triangle with base 10 and height 20 is: 100.0\n"
     ]
    }
   ],
   "source": [
    "base = 10\n",
    "height = 20\n",
    "\n",
    "area = 0.5 * base * height  \n",
    "\n",
    "print(f\"The area of the triangle with base {base} and height {height} is: {area}\")\n"
   ]
  },
  {
   "cell_type": "code",
   "execution_count": 2,
   "metadata": {},
   "outputs": [
    {
     "name": "stdout",
     "output_type": "stream",
     "text": [
      "The perimeter of the triangle with sides 5, 4, and 3 is: 12\n"
     ]
    }
   ],
   "source": [
    "# Prompt the user to enter the side lengths\n",
    "a = 5\n",
    "b = 4\n",
    "c = 3\n",
    "\n",
    "# Calculate the perimeter\n",
    "perimeter = a + b + c\n",
    "\n",
    "# Print the perimeter\n",
    "print(f\"The perimeter of the triangle with sides {a}, {b}, and {c} is: {perimeter}\")\n"
   ]
  },
  {
   "cell_type": "code",
   "execution_count": 3,
   "metadata": {},
   "outputs": [
    {
     "name": "stdout",
     "output_type": "stream",
     "text": [
      "Area of the rectangle: 15\n",
      "Perimeter of the rectangle: 16\n"
     ]
    }
   ],
   "source": [
    "# Get length and width of a rectangle using prompt\n",
    "length = 5\n",
    "width = 3\n",
    "\n",
    "# Calculate area and perimeter\n",
    "area = length * width\n",
    "perimeter = 2 * (length + width)\n",
    "\n",
    "# Print results\n",
    "print(f\"Area of the rectangle: {area}\")\n",
    "print(f\"Perimeter of the rectangle: {perimeter}\")\n"
   ]
  },
  {
   "cell_type": "code",
   "execution_count": 4,
   "metadata": {},
   "outputs": [
    {
     "name": "stdout",
     "output_type": "stream",
     "text": [
      "Area of the circle: 314.0\n",
      "Circumference of the circle: 62.800000000000004\n"
     ]
    }
   ],
   "source": [
    "\n",
    "radius = 10\n",
    "\n",
    "# Define pi\n",
    "pi = 3.14\n",
    "\n",
    "# Calculate area and circumference\n",
    "area = pi * radius * radius\n",
    "circumference = 2 * pi * radius\n",
    "\n",
    "# Print results\n",
    "print(f\"Area of the circle: {area}\")\n",
    "print(f\"Circumference of the circle: {circumference}\")\n"
   ]
  },
  {
   "cell_type": "code",
   "execution_count": 5,
   "metadata": {},
   "outputs": [
    {
     "name": "stdout",
     "output_type": "stream",
     "text": [
      "Slope: 2\n",
      "X-intercept: 1.0\n",
      "Y-intercept: -2\n"
     ]
    }
   ],
   "source": [
    "\n",
    "slope = 2  \n",
    "y_intercept = -2  \n",
    "\n",
    "# Calculate x-intercept\n",
    "x_intercept = -y_intercept / slope\n",
    "\n",
    "# Print results\n",
    "print(\"Slope:\", slope)\n",
    "print(\"X-intercept:\", x_intercept)\n",
    "print(\"Y-intercept:\", y_intercept)\n"
   ]
  },
  {
   "cell_type": "code",
   "execution_count": 7,
   "metadata": {},
   "outputs": [
    {
     "name": "stdout",
     "output_type": "stream",
     "text": [
      "The slope between the points is: 2.0\n",
      "The Euclidean distance between the points is: 8.94427190999916\n"
     ]
    }
   ],
   "source": [
    "# Store the coordinates of the two points\n",
    "point1 = (2, 2)\n",
    "point2 = (6, 10)\n",
    "\n",
    "# Calculate the slope (remember the formula is m = rise/run)\n",
    "rise = point2[1] - point1[1]  # Change in y (vertical distance)\n",
    "run = point2[0] - point1[0]  # Change in x (horizontal distance)\n",
    "slope = rise / run  # Divide rise by run to get the slope\n",
    "\n",
    "# Calculate the Euclidean distance (think of it as the length of the hypotenuse)\n",
    "distance = ((run ** 2) + (rise ** 2)) ** 0.5  # Use the Pythagorean theorem\n",
    "\n",
    "# Print the results in a clear way\n",
    "print(\"The slope between the points is:\", slope)\n",
    "print(\"The Euclidean distance between the points is:\", distance)\n"
   ]
  },
  {
   "cell_type": "code",
   "execution_count": 8,
   "metadata": {},
   "outputs": [
    {
     "name": "stdout",
     "output_type": "stream",
     "text": [
      "When x = -5, y = 4\n",
      "When x = -4, y = 1\n",
      "When x = -3, y = 0\n",
      "y is 0 when x =  -3\n",
      "When x = -2, y = 1\n",
      "When x = -1, y = 4\n",
      "When x = 0, y = 9\n",
      "When x = 1, y = 16\n",
      "When x = 2, y = 25\n",
      "When x = 3, y = 36\n",
      "When x = 4, y = 49\n",
      "When x = 5, y = 64\n"
     ]
    }
   ],
   "source": [
    "def calculate_y(x):\n",
    "    y = x**2 + 6*x + 9\n",
    "    return y\n",
    "\n",
    "for x in range(-5, 6):  # Try different x values\n",
    "    y = calculate_y(x)\n",
    "    print(f\"When x = {x}, y = {y}\")\n",
    "\n",
    "    if y == 0:\n",
    "        print(\"y is 0 when x = \", x)\n"
   ]
  },
  {
   "cell_type": "code",
   "execution_count": 9,
   "metadata": {},
   "outputs": [
    {
     "name": "stdout",
     "output_type": "stream",
     "text": [
      "Length of 'python': 6\n",
      "Length of 'dragon': 6\n",
      "Lengths are not equal: False\n"
     ]
    }
   ],
   "source": [
    "length1 = len(\"python\")\n",
    "length2 = len(\"dragon\")\n",
    "\n",
    "print(f\"Length of 'python': {length1}\")\n",
    "print(f\"Length of 'dragon': {length2}\")\n",
    "\n",
    "# Falsy comparison (not equal)\n",
    "print(\"Lengths are not equal:\", length1 != length2)\n"
   ]
  },
  {
   "cell_type": "code",
   "execution_count": 10,
   "metadata": {},
   "outputs": [
    {
     "name": "stdout",
     "output_type": "stream",
     "text": [
      "'on' in both 'python' and 'dragon': True\n"
     ]
    }
   ],
   "source": [
    "print(\"'on' in both 'python' and 'dragon':\", \"on\" in \"python\" and \"on\" in \"dragon\")\n"
   ]
  },
  {
   "cell_type": "code",
   "execution_count": 11,
   "metadata": {},
   "outputs": [
    {
     "name": "stdout",
     "output_type": "stream",
     "text": [
      "'jargon' in sentence: True\n"
     ]
    }
   ],
   "source": [
    "sentence = \"I hope this course is not full of jargon.\"\n",
    "print(\"'jargon' in sentence:\", \"jargon\" in sentence)\n"
   ]
  },
  {
   "cell_type": "code",
   "execution_count": 12,
   "metadata": {},
   "outputs": [
    {
     "name": "stdout",
     "output_type": "stream",
     "text": [
      "Neither 'python' nor 'dragon' contains 'on': False\n"
     ]
    }
   ],
   "source": [
    "print(\"Neither 'python' nor 'dragon' contains 'on':\", not (\"on\" in \"python\" or \"on\" in \"dragon\"))\n"
   ]
  },
  {
   "cell_type": "code",
   "execution_count": 13,
   "metadata": {},
   "outputs": [
    {
     "name": "stdout",
     "output_type": "stream",
     "text": [
      "Original length: 6, Float length: 6.0, String length: 6.0\n"
     ]
    }
   ],
   "source": [
    "text = \"python\"\n",
    "length = len(text)\n",
    "float_length = float(length)\n",
    "string_length = str(float_length)\n",
    "\n",
    "print(f\"Original length: {length}, Float length: {float_length}, String length: {string_length}\")\n"
   ]
  },
  {
   "cell_type": "code",
   "execution_count": 14,
   "metadata": {},
   "outputs": [
    {
     "name": "stdout",
     "output_type": "stream",
     "text": [
      "12 is even: True\n"
     ]
    }
   ],
   "source": [
    "number = 12 \n",
    "print(f\"{number} is even:\", number % 2 == 0)\n"
   ]
  },
  {
   "cell_type": "code",
   "execution_count": 15,
   "metadata": {},
   "outputs": [
    {
     "name": "stdout",
     "output_type": "stream",
     "text": [
      "Floor division of 7 by 3 equals int(2.7): True\n"
     ]
    }
   ],
   "source": [
    "print(\"Floor division of 7 by 3 equals int(2.7):\", 7 // 3 == int(2.7))\n"
   ]
  },
  {
   "cell_type": "code",
   "execution_count": 16,
   "metadata": {},
   "outputs": [
    {
     "name": "stdout",
     "output_type": "stream",
     "text": [
      "Type of '10' is equal to type of 10: False\n"
     ]
    }
   ],
   "source": [
    "print(\"Type of '10' is equal to type of 10:\", type(\"10\") == type(10))\n"
   ]
  },
  {
   "cell_type": "code",
   "execution_count": 19,
   "metadata": {},
   "outputs": [
    {
     "name": "stdout",
     "output_type": "stream",
     "text": [
      "int('9.8') is equal to 10:\n"
     ]
    }
   ],
   "source": [
    "print(\"int('9.8') is equal to 10:\")\n"
   ]
  },
  {
   "cell_type": "code",
   "execution_count": 20,
   "metadata": {},
   "outputs": [
    {
     "name": "stdout",
     "output_type": "stream",
     "text": [
      "Your weekly earning is: $1120\n"
     ]
    }
   ],
   "source": [
    "\n",
    "hours = 40\n",
    "rate_per_hour = 28\n",
    "\n",
    "# Calculate weekly pay\n",
    "weekly_pay = hours * rate_per_hour\n",
    "\n",
    "# Print the result\n",
    "print(f\"Your weekly earning is: ${weekly_pay}\")\n"
   ]
  },
  {
   "cell_type": "code",
   "execution_count": 21,
   "metadata": {},
   "outputs": [
    {
     "name": "stdout",
     "output_type": "stream",
     "text": [
      "You have lived for 3153600000 seconds.\n"
     ]
    }
   ],
   "source": [
    "\n",
    "years_lived = 100\n",
    "seconds_in_a_year = 365 * 24 * 60 * 60  \n",
    "max_seconds_in_life = 100 * seconds_in_a_year  \n",
    "\n",
    "# Calculate the seconds lived based on user input\n",
    "seconds_lived = years_lived * seconds_in_a_year\n",
    "\n",
    "# Print the result, considering both possible scenarios\n",
    "if years_lived <= 100:\n",
    "    print(f\"You have lived for {seconds_lived} seconds.\")\n",
    "else:\n",
    "    print(f\"You have lived for more than 100 years! Assuming a 100-year lifespan, you would have lived for a maximum of {max_seconds_in_life} seconds.\")\n"
   ]
  },
  {
   "cell_type": "code",
   "execution_count": 22,
   "metadata": {},
   "outputs": [
    {
     "name": "stdout",
     "output_type": "stream",
     "text": [
      "1 1 1 1 1 \n",
      "2 4 8 16 32 \n",
      "3 9 27 81 243 \n",
      "4 16 64 256 1024 \n",
      "5 25 125 625 3125 \n"
     ]
    }
   ],
   "source": [
    "for i in range(1, 6):\n",
    "    for j in range(1, 6):\n",
    "        print(i**j, end=\" \")  \n",
    "    print()  \n"
   ]
  }
 ],
 "metadata": {
  "kernelspec": {
   "display_name": "Python 3",
   "language": "python",
   "name": "python3"
  },
  "language_info": {
   "codemirror_mode": {
    "name": "ipython",
    "version": 3
   },
   "file_extension": ".py",
   "mimetype": "text/x-python",
   "name": "python",
   "nbconvert_exporter": "python",
   "pygments_lexer": "ipython3",
   "version": "3.12.0"
  }
 },
 "nbformat": 4,
 "nbformat_minor": 2
}
