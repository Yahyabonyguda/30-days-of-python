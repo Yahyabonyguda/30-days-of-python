{
 "cells": [
  {
   "cell_type": "markdown",
   "metadata": {},
   "source": [
    "###  Exercises: Day 16\n"
   ]
  },
  {
   "cell_type": "code",
   "execution_count": 1,
   "metadata": {},
   "outputs": [
    {
     "name": "stdout",
     "output_type": "stream",
     "text": [
      "Current day: 26\n",
      "Current month: 12\n",
      "Current year: 2023\n",
      "Current hour: 15\n",
      "Current minute: 44\n",
      "Current timestamp: 1703601886.241693\n"
     ]
    }
   ],
   "source": [
    "import datetime\n",
    "\n",
    "now = datetime.datetime.now()\n",
    "\n",
    "# Extract individual components\n",
    "current_day = now.day\n",
    "current_month = now.month\n",
    "current_year = now.year\n",
    "current_hour = now.hour\n",
    "current_minute = now.minute\n",
    "current_timestamp = now.timestamp()  # Unix timestamp\n",
    "\n",
    "# Print the results\n",
    "print(\"Current day:\", current_day)\n",
    "print(\"Current month:\", current_month)\n",
    "print(\"Current year:\", current_year)\n",
    "print(\"Current hour:\", current_hour)\n",
    "print(\"Current minute:\", current_minute)\n",
    "print(\"Current timestamp:\", current_timestamp)\n"
   ]
  },
  {
   "cell_type": "code",
   "execution_count": 2,
   "metadata": {},
   "outputs": [
    {
     "name": "stdout",
     "output_type": "stream",
     "text": [
      "Formatted date and time: 12/26/2023, 15:48:09\n"
     ]
    }
   ],
   "source": [
    "import datetime\n",
    "\n",
    "now = datetime.datetime.now()\n",
    "formatted_datetime = now.strftime(\"%m/%d/%Y, %H:%M:%S\")\n",
    "\n",
    "print(\"Formatted date and time:\", formatted_datetime)\n"
   ]
  }
 ],
 "metadata": {
  "kernelspec": {
   "display_name": "Python 3",
   "language": "python",
   "name": "python3"
  },
  "language_info": {
   "codemirror_mode": {
    "name": "ipython",
    "version": 3
   },
   "file_extension": ".py",
   "mimetype": "text/x-python",
   "name": "python",
   "nbconvert_exporter": "python",
   "pygments_lexer": "ipython3",
   "version": "3.12.0"
  }
 },
 "nbformat": 4,
 "nbformat_minor": 2
}
