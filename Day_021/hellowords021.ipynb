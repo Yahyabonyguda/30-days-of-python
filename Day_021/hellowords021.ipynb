{
 "cells": [
  {
   "cell_type": "markdown",
   "metadata": {},
   "source": [
    "###  Day 21 - Classes and Objects"
   ]
  },
  {
   "cell_type": "code",
   "execution_count": null,
   "metadata": {},
   "outputs": [],
   "source": [
    "import numpy as np\n",
    "\n",
    "# Sample data\n",
    "ages = [31, 26, 34, 37, 27, 26, 32, 32, 26, 27, 27, 24, 32, 33, 27, 25, 26, 38, 37, 31, 34, 24, 33, 29, 26]\n",
    "\n",
    "# Measures of central tendency\n",
    "mean = np.mean(ages)\n",
    "median = np.median(ages)\n",
    "mode = np.bincount(ages).argmax()\n",
    "\n",
    "# Measures of variability\n",
    "range = np.max(ages) - np.min(ages)\n",
    "variance = np.var(ages)\n",
    "standard_deviation = np.std(ages)\n",
    "\n",
    "# Print the results\n",
    "print(\"Measures of central tendency:\")\n",
    "print(f\"\\tMean: {mean:.2f}\")\n",
    "print(f\"\\tMedian: {median}\")\n",
    "print(f\"\\tMode: {mode}\")\n",
    "print(\"\\nMeasures of variability:\")\n",
    "print(f\"\\tRange: {range}\")\n",
    "print(f\"\\tVariance: {variance:.2f}\")\n",
    "print(f\"\\tStandard deviation: {standard_deviation:.2f}\")\n"
   ]
  },
  {
   "cell_type": "code",
   "execution_count": null,
   "metadata": {},
   "outputs": [],
   "source": [
    "import numpy as np\n",
    "\n",
    "# Sample data\n",
    "ages = [31, 26, 34, 37, 27, 26, 32, 32, 26, 27, 27, 24, 32, 33, 27, 25, 26, 38, 37, 31, 34, 24, 33, 29, 26]\n",
    "\n",
    "# Additional statistics\n",
    "min_value = np.min(ages)\n",
    "max_value = np.max(ages)\n",
    "count = len(ages)\n",
    "percentiles = np.percentile(ages, [25, 50, 75])\n",
    "frequency_distribution = np.bincount(ages)\n",
    "\n",
    "# Print the results\n",
    "print(\"Additional statistics:\")\n",
    "print(f\"\\tMin: {min_value}\")\n",
    "print(f\"\\tMax: {max_value}\")\n",
    "print(f\"\\tCount: {count}\")\n",
    "print(f\"\\tPercentiles:\")\n",
    "print(f\"\\t\\t25th: {percentiles[0]}\")\n",
    "print(f\"\\t\\t50th (Median): {percentiles[1]}\")\n",
    "print(f\"\\t\\t75th: {percentiles[2]}\")\n",
    "print(\"\\nFrequency distribution:\")\n",
    "print(frequency_distribution)"
   ]
  },
  {
   "cell_type": "markdown",
   "metadata": {},
   "source": [
    "####  Exercises: Level 2"
   ]
  },
  {
   "cell_type": "code",
   "execution_count": 6,
   "metadata": {},
   "outputs": [
    {
     "name": "stdout",
     "output_type": "stream",
     "text": [
      "Name: yahaya muhammad\n",
      "Total Income: $1500.00\n",
      "Total Expense: $350.00\n",
      "Account Balance: $1150.00\n"
     ]
    }
   ],
   "source": [
    "class PersonAccount:\n",
    "   def __init__(self, first_name, last_name):\n",
    "       self.first_name = first_name\n",
    "       self.last_name = last_name\n",
    "       self.incomes = set()  \n",
    "       self.expenses = set()  \n",
    "\n",
    "   def total_income(self):\n",
    "       return sum(amount for amount, _ in self.incomes)\n",
    "\n",
    "   def total_expense(self):\n",
    "       return sum(amount for amount, _ in self.expenses)\n",
    "\n",
    "   def account_info(self):\n",
    "       print(f\"Name: {self.first_name} {self.last_name}\")\n",
    "       print(f\"Total Income: ${self.total_income():.2f}\")\n",
    "       print(f\"Total Expense: ${self.total_expense():.2f}\")\n",
    "       print(f\"Account Balance: ${self.account_balance():.2f}\")\n",
    "\n",
    "   def add_income(self, amount, description):\n",
    "       self.incomes.add((amount, description))\n",
    "\n",
    "   def add_expense(self, amount, description):\n",
    "       self.expenses.add((amount, description))\n",
    "\n",
    "   def account_balance(self):\n",
    "       return self.total_income() - self.total_expense()\n",
    "\n",
    "# Example usage\n",
    "account = PersonAccount(\"yahaya\", \"muhammad\")\n",
    "account.add_income(1000, \"Salary\")\n",
    "account.add_income(500, \"Freelance work\")\n",
    "account.add_expense(200, \"Rent\")\n",
    "account.add_expense(150, \"Groceries\")\n",
    "\n",
    "account.account_info()\n"
   ]
  }
 ],
 "metadata": {
  "kernelspec": {
   "display_name": "Python 3",
   "language": "python",
   "name": "python3"
  },
  "language_info": {
   "codemirror_mode": {
    "name": "ipython",
    "version": 3
   },
   "file_extension": ".py",
   "mimetype": "text/x-python",
   "name": "python",
   "nbconvert_exporter": "python",
   "pygments_lexer": "ipython3",
   "version": "3.12.0"
  }
 },
 "nbformat": 4,
 "nbformat_minor": 2
}
