{
 "cells": [
  {
   "cell_type": "markdown",
   "metadata": {},
   "source": [
    "# Exercise: Level 1"
   ]
  },
  {
   "cell_type": "code",
   "execution_count": 1,
   "metadata": {},
   "outputs": [
    {
     "name": "stdout",
     "output_type": "stream",
     "text": [
      "Addition:\n",
      "7\n",
      "Subtraction:\n",
      "-1\n",
      "Multiplication:\n",
      "12\n",
      "Modulus:\n",
      "3\n",
      "Division:\n",
      "0.75\n",
      "Exponential:\n",
      "81\n",
      "Floor division:\n",
      "0\n"
     ]
    }
   ],
   "source": [
    "# Addition (+)\n",
    "print(\"Addition:\")\n",
    "print(3 + 4)\n",
    "\n",
    "# Subtraction (-)\n",
    "print(\"Subtraction:\")\n",
    "print(3 - 4)\n",
    "\n",
    "# Multiplication (*)\n",
    "print(\"Multiplication:\")\n",
    "print(3 * 4)\n",
    "\n",
    "# Modulus (%)\n",
    "print(\"Modulus:\")\n",
    "print(3 % 4)\n",
    "\n",
    "# Division (/)\n",
    "print(\"Division:\")\n",
    "print(3 / 4)\n",
    "\n",
    "# Exponential (**)\n",
    "print(\"Exponential:\")\n",
    "print(3 ** 4)\n",
    "\n",
    "# Floor division operator (//)\n",
    "print(\"Floor division:\")\n",
    "print(3 // 4)\n"
   ]
  },
  {
   "cell_type": "code",
   "execution_count": 2,
   "metadata": {},
   "outputs": [
    {
     "name": "stdout",
     "output_type": "stream",
     "text": [
      "Your name:\n",
      "Bard\n",
      "Your family name:\n",
      "Google AI\n",
      "Your country:\n",
      "United States\n",
      "I am enjoying 30 days of python\n"
     ]
    }
   ],
   "source": [
    "print(\"Your name:\")\n",
    "print(\"Bard\")\n",
    "print(\"Your family name:\")\n",
    "print(\"Google AI\")\n",
    "print(\"Your country:\")\n",
    "print(\"United States\")\n",
    "print(\"I am enjoying 30 days of python\")\n"
   ]
  },
  {
   "cell_type": "code",
   "execution_count": 3,
   "metadata": {},
   "outputs": [
    {
     "name": "stdout",
     "output_type": "stream",
     "text": [
      "Type of 10: <class 'int'>\n",
      "Type of 9.8: <class 'float'>\n",
      "Type of 3.14: <class 'float'>\n",
      "Type of 4 - 4j: <class 'complex'>\n",
      "Type of ['Asabeneh', 'Python', 'Finland']: <class 'list'>\n",
      "Type of 'Bard': <class 'str'>\n",
      "Type of 'Google AI': <class 'str'>\n",
      "Type of 'United States': <class 'str'>\n"
     ]
    }
   ],
   "source": [
    "print(f\"Type of 10: {type(10)}\")\n",
    "print(f\"Type of 9.8: {type(9.8)}\")\n",
    "print(f\"Type of 3.14: {type(3.14)}\")\n",
    "print(f\"Type of 4 - 4j: {type(4 - 4j)}\")\n",
    "print(f\"Type of ['Asabeneh', 'Python', 'Finland']: {type(['Asabeneh', 'Python', 'Finland'])}\")\n",
    "print(f\"Type of 'Bard': {type('Bard')}\")\n",
    "print(f\"Type of 'Google AI': {type('Google AI')}\")\n",
    "print(f\"Type of 'United States': {type('United States')}\")\n"
   ]
  },
  {
   "cell_type": "code",
   "execution_count": 4,
   "metadata": {},
   "outputs": [
    {
     "name": "stdout",
     "output_type": "stream",
     "text": [
      "Integer: 10\n",
      "Floating point number: 9.8\n",
      "Complex number: 3.14j\n",
      "String: Hello, World!\n",
      "Boolean (True): True\n",
      "Boolean (False): False\n",
      "List: ['apple', 'banana', 'cherry']\n",
      "Tuple: ('apple', 'banana', 'cherry')\n",
      "Set: {'apple', 'banana', 'cherry'}\n",
      "Dictionary: {'name': 'John', 'age': 30, 'city': 'New York'}\n"
     ]
    }
   ],
   "source": [
    "print(f\"Integer: {10}\")\n",
    "print(f\"Floating point number: {9.8}\")\n",
    "print(f\"Complex number: {3.14j}\")\n",
    "print(f\"String: {'Hello, World!'}\")\n",
    "print(f\"Boolean (True): {True}\")\n",
    "print(f\"Boolean (False): {False}\")\n",
    "print(f\"List: {['apple', 'banana', 'cherry']}\")\n",
    "print(f\"Tuple: {('apple', 'banana', 'cherry')}\")\n",
    "print(f\"Set: {{'apple', 'banana', 'cherry'}}\")\n",
    "print(f\"Dictionary: {{'name': 'John', 'age': 30, 'city': 'New York'}}\")\n"
   ]
  },
  {
   "cell_type": "code",
   "execution_count": 5,
   "metadata": {},
   "outputs": [
    {
     "name": "stdout",
     "output_type": "stream",
     "text": [
      "The Euclidean distance between the two points is: 9.433981132056603\n"
     ]
    }
   ],
   "source": [
    "import math\n",
    "\n",
    "# Define coordinates of points\n",
    "point_1 = (2, 3)\n",
    "point_2 = (10, 8)\n",
    "\n",
    "# Calculate difference in x and y\n",
    "diff_x = point_2[0] - point_1[0]\n",
    "diff_y = point_2[1] - point_1[1]\n",
    "\n",
    "# Calculate Euclidean distance\n",
    "distance = math.sqrt(diff_x**2 + diff_y**2)\n",
    "\n",
    "# Print the distance\n",
    "print(f\"The Euclidean distance between the two points is: {distance}\")\n"
   ]
  }
 ],
 "metadata": {
  "kernelspec": {
   "display_name": "Python 3",
   "language": "python",
   "name": "python3"
  },
  "language_info": {
   "codemirror_mode": {
    "name": "ipython",
    "version": 3
   },
   "file_extension": ".py",
   "mimetype": "text/x-python",
   "name": "python",
   "nbconvert_exporter": "python",
   "pygments_lexer": "ipython3",
   "version": "3.12.0"
  }
 },
 "nbformat": 4,
 "nbformat_minor": 2
}
